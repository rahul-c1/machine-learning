{
 "cells": [
  {
   "cell_type": "markdown",
   "metadata": {},
   "source": [
    "# Machine Learning Engineer Nanodegree\n",
    "## Supervised Learning\n",
    "## Project: Finding Donors for *CharityML*"
   ]
  },
  {
   "cell_type": "markdown",
   "metadata": {},
   "source": [
    "Welcome to the second project of the Machine Learning Engineer Nanodegree! In this notebook, some template code has already been provided for you, and it will be your job to implement the additional functionality necessary to successfully complete this project. Sections that begin with **'Implementation'** in the header indicate that the following block of code will require additional functionality which you must provide. Instructions will be provided for each section and the specifics of the implementation are marked in the code block with a `'TODO'` statement. Please be sure to read the instructions carefully!\n",
    "\n",
    "In addition to implementing code, there will be questions that you must answer which relate to the project and your implementation. Each section where you will answer a question is preceded by a **'Question X'** header. Carefully read each question and provide thorough answers in the following text boxes that begin with **'Answer:'**. Your project submission will be evaluated based on your answers to each of the questions and the implementation you provide.  \n",
    "\n",
    ">**Note:** Please specify WHICH VERSION OF PYTHON you are using when submitting this notebook. Code and Markdown cells can be executed using the **Shift + Enter** keyboard shortcut. In addition, Markdown cells can be edited by typically double-clicking the cell to enter edit mode."
   ]
  },
  {
   "cell_type": "code",
   "execution_count": 2,
   "metadata": {},
   "outputs": [
    {
     "name": "stdout",
     "output_type": "stream",
     "text": [
      "sklearn version - 0.17.1\n"
     ]
    }
   ],
   "source": [
    "import sklearn\n",
    "\n",
    "print(\"sklearn version - {0}\".format(sklearn.__version__))"
   ]
  },
  {
   "cell_type": "markdown",
   "metadata": {},
   "source": [
    "## Getting Started\n",
    "\n",
    "In this project, you will employ several supervised algorithms of your choice to accurately model individuals' income using data collected from the 1994 U.S. Census. You will then choose the best candidate algorithm from preliminary results and further optimize this algorithm to best model the data. Your goal with this implementation is to construct a model that accurately predicts whether an individual makes more than $50,000. This sort of task can arise in a non-profit setting, where organizations survive on donations.  Understanding an individual's income can help a non-profit better understand how large of a donation to request, or whether or not they should reach out to begin with.  While it can be difficult to determine an individual's general income bracket directly from public sources, we can (as we will see) infer this value from other publically available features. \n",
    "\n",
    "The dataset for this project originates from the [UCI Machine Learning Repository](https://archive.ics.uci.edu/ml/datasets/Census+Income). The datset was donated by Ron Kohavi and Barry Becker, after being published in the article _\"Scaling Up the Accuracy of Naive-Bayes Classifiers: A Decision-Tree Hybrid\"_. You can find the article by Ron Kohavi [online](https://www.aaai.org/Papers/KDD/1996/KDD96-033.pdf). The data we investigate here consists of small changes to the original dataset, such as removing the `'fnlwgt'` feature and records with missing or ill-formatted entries."
   ]
  },
  {
   "cell_type": "markdown",
   "metadata": {},
   "source": [
    "----\n",
    "## Exploring the Data\n",
    "Run the code cell below to load necessary Python libraries and load the census data. Note that the last column from this dataset, `'income'`, will be our target label (whether an individual makes more than, or at most, $50,000 annually). All other columns are features about each individual in the census database."
   ]
  },
  {
   "cell_type": "code",
<<<<<<< HEAD
   "execution_count": 3,
   "metadata": {},
   "outputs": [
    {
     "data": {
      "text/html": [
       "<div>\n",
       "<style>\n",
       "    .dataframe thead tr:only-child th {\n",
       "        text-align: right;\n",
       "    }\n",
       "\n",
       "    .dataframe thead th {\n",
       "        text-align: left;\n",
       "    }\n",
       "\n",
       "    .dataframe tbody tr th {\n",
       "        vertical-align: top;\n",
       "    }\n",
       "</style>\n",
       "<table border=\"1\" class=\"dataframe\">\n",
       "  <thead>\n",
       "    <tr style=\"text-align: right;\">\n",
       "      <th></th>\n",
       "      <th>age</th>\n",
       "      <th>workclass</th>\n",
       "      <th>education_level</th>\n",
       "      <th>education-num</th>\n",
       "      <th>marital-status</th>\n",
       "      <th>occupation</th>\n",
       "      <th>relationship</th>\n",
       "      <th>race</th>\n",
       "      <th>sex</th>\n",
       "      <th>capital-gain</th>\n",
       "      <th>capital-loss</th>\n",
       "      <th>hours-per-week</th>\n",
       "      <th>native-country</th>\n",
       "      <th>income</th>\n",
       "    </tr>\n",
       "  </thead>\n",
       "  <tbody>\n",
       "    <tr>\n",
       "      <th>0</th>\n",
       "      <td>39</td>\n",
       "      <td>State-gov</td>\n",
       "      <td>Bachelors</td>\n",
       "      <td>13.0</td>\n",
       "      <td>Never-married</td>\n",
       "      <td>Adm-clerical</td>\n",
       "      <td>Not-in-family</td>\n",
       "      <td>White</td>\n",
       "      <td>Male</td>\n",
       "      <td>2174.0</td>\n",
       "      <td>0.0</td>\n",
       "      <td>40.0</td>\n",
       "      <td>United-States</td>\n",
       "      <td>&lt;=50K</td>\n",
       "    </tr>\n",
       "  </tbody>\n",
       "</table>\n",
       "</div>"
      ],
      "text/plain": [
       "   age   workclass education_level  education-num  marital-status  \\\n",
       "0   39   State-gov       Bachelors           13.0   Never-married   \n",
       "\n",
       "      occupation    relationship    race    sex  capital-gain  capital-loss  \\\n",
       "0   Adm-clerical   Not-in-family   White   Male        2174.0           0.0   \n",
       "\n",
       "   hours-per-week  native-country income  \n",
       "0            40.0   United-States  <=50K  "
      ]
     },
     "metadata": {},
     "output_type": "display_data"
    }
   ],
=======
   "execution_count": null,
   "metadata": {
    "collapsed": true
   },
   "outputs": [],
>>>>>>> 48178d734ba9e97291498b5ebc57639a71f6548c
   "source": [
    "# Import libraries necessary for this project\n",
    "import numpy as np\n",
    "import pandas as pd\n",
    "from time import time\n",
    "from IPython.display import display # Allows the use of display() for DataFrames\n",
    "\n",
    "# Import supplementary visualization code visuals.py\n",
    "import visuals as vs\n",
    "\n",
    "# Pretty display for notebooks\n",
    "%matplotlib inline\n",
    "\n",
    "# Load the Census dataset\n",
    "data = pd.read_csv(\"census.csv\")\n",
    "\n",
    "# Success - Display the first record\n",
    "display(data.head(n=1))"
   ]
  },
  {
   "cell_type": "markdown",
   "metadata": {},
   "source": [
    "### Implementation: Data Exploration\n",
    "A cursory investigation of the dataset will determine how many individuals fit into either group, and will tell us about the percentage of these individuals making more than \\$50,000. In the code cell below, you will need to compute the following:\n",
    "- The total number of records, `'n_records'`\n",
    "- The number of individuals making more than \\$50,000 annually, `'n_greater_50k'`.\n",
    "- The number of individuals making at most \\$50,000 annually, `'n_at_most_50k'`.\n",
    "- The percentage of individuals making more than \\$50,000 annually, `'greater_percent'`.\n",
    "\n",
    "** HINT: ** You may need to look at the table above to understand how the `'income'` entries are formatted. "
   ]
  },
  {
   "cell_type": "code",
<<<<<<< HEAD
   "execution_count": 4,
   "metadata": {},
   "outputs": [
    {
     "name": "stdout",
     "output_type": "stream",
     "text": [
      "Total number of records: 45222\n",
      "Individuals making more than $50,000: 11208\n",
      "Individuals making at most $50,000: 34014\n",
      "Percentage of individuals making more than $50,000: 24.78%\n"
     ]
    }
   ],
=======
   "execution_count": null,
   "metadata": {
    "collapsed": true
   },
   "outputs": [],
>>>>>>> 48178d734ba9e97291498b5ebc57639a71f6548c
   "source": [
    "# TODO: Total number of records\n",
    "n_records = data.shape[0]\n",
    "\n",
    "# TODO: Number of records where individual's income is more than $50,000\n",
    "n_greater_50k = data[data['income'].str.contains('>50K')].shape[0]\n",
    "\n",
    "# TODO: Number of records where individual's income is at most $50,000\n",
    "n_at_most_50k = data[data['income'].str.contains('<=50K')].shape[0]\n",
    "\n",
    "# TODO: Percentage of individuals whose income is more than $50,000\n",
    "greater_percent = n_greater_50k*100.00/n_records\n",
    "\n",
    "# Print the results\n",
    "print \"Total number of records: {}\".format(n_records)\n",
    "print \"Individuals making more than $50,000: {}\".format(n_greater_50k)\n",
    "print \"Individuals making at most $50,000: {}\".format(n_at_most_50k)\n",
    "print \"Percentage of individuals making more than $50,000: {:.2f}%\".format(greater_percent)"
   ]
  },
  {
   "cell_type": "markdown",
   "metadata": {},
   "source": [
    "** Featureset Exploration **\n",
    "\n",
    "* **age**: continuous. \n",
    "* **workclass**: Private, Self-emp-not-inc, Self-emp-inc, Federal-gov, Local-gov, State-gov, Without-pay, Never-worked. \n",
    "* **education**: Bachelors, Some-college, 11th, HS-grad, Prof-school, Assoc-acdm, Assoc-voc, 9th, 7th-8th, 12th, Masters, 1st-4th, 10th, Doctorate, 5th-6th, Preschool. \n",
    "* **education-num**: continuous. \n",
    "* **marital-status**: Married-civ-spouse, Divorced, Never-married, Separated, Widowed, Married-spouse-absent, Married-AF-spouse. \n",
    "* **occupation**: Tech-support, Craft-repair, Other-service, Sales, Exec-managerial, Prof-specialty, Handlers-cleaners, Machine-op-inspct, Adm-clerical, Farming-fishing, Transport-moving, Priv-house-serv, Protective-serv, Armed-Forces. \n",
    "* **relationship**: Wife, Own-child, Husband, Not-in-family, Other-relative, Unmarried. \n",
    "* **race**: Black, White, Asian-Pac-Islander, Amer-Indian-Eskimo, Other. \n",
    "* **sex**: Female, Male. \n",
    "* **capital-gain**: continuous. \n",
    "* **capital-loss**: continuous. \n",
    "* **hours-per-week**: continuous. \n",
    "* **native-country**: United-States, Cambodia, England, Puerto-Rico, Canada, Germany, Outlying-US(Guam-USVI-etc), India, Japan, Greece, South, China, Cuba, Iran, Honduras, Philippines, Italy, Poland, Jamaica, Vietnam, Mexico, Portugal, Ireland, France, Dominican-Republic, Laos, Ecuador, Taiwan, Haiti, Columbia, Hungary, Guatemala, Nicaragua, Scotland, Thailand, Yugoslavia, El-Salvador, Trinadad&Tobago, Peru, Hong, Holand-Netherlands."
   ]
  },
  {
   "cell_type": "markdown",
   "metadata": {},
   "source": [
    "----\n",
    "## Preparing the Data\n",
    "Before data can be used as input for machine learning algorithms, it often must be cleaned, formatted, and restructured — this is typically known as **preprocessing**. Fortunately, for this dataset, there are no invalid or missing entries we must deal with, however, there are some qualities about certain features that must be adjusted. This preprocessing can help tremendously with the outcome and predictive power of nearly all learning algorithms."
   ]
  },
  {
   "cell_type": "markdown",
   "metadata": {},
   "source": [
    "### Transforming Skewed Continuous Features\n",
    "A dataset may sometimes contain at least one feature whose values tend to lie near a single number, but will also have a non-trivial number of vastly larger or smaller values than that single number.  Algorithms can be sensitive to such distributions of values and can underperform if the range is not properly normalized. With the census dataset two features fit this description: '`capital-gain'` and `'capital-loss'`. \n",
    "\n",
    "Run the code cell below to plot a histogram of these two features. Note the range of the values present and how they are distributed."
   ]
  },
  {
   "cell_type": "code",
<<<<<<< HEAD
   "execution_count": 5,
   "metadata": {},
   "outputs": [
    {
     "data": {
      "image/png": "iVBORw0KGgoAAAANSUhEUgAAAxAAAAF2CAYAAAD+y36TAAAABHNCSVQICAgIfAhkiAAAAAlwSFlz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\n2gQEAADQJiAAAIA2AQEAALQJCAAAoO0Ga7UEP7pgqRcAAAAASUVORK5CYII=\n",
      "text/plain": [
       "<matplotlib.figure.Figure at 0x10d863cd0>"
      ]
     },
     "metadata": {},
     "output_type": "display_data"
    }
   ],
=======
   "execution_count": null,
   "metadata": {
    "collapsed": true
   },
   "outputs": [],
>>>>>>> 48178d734ba9e97291498b5ebc57639a71f6548c
   "source": [
    "# Split the data into features and target label\n",
    "income_raw = data['income']\n",
    "features_raw = data.drop('income', axis = 1)\n",
    "\n",
    "# Visualize skewed continuous features of original data\n",
    "vs.distribution(data)"
   ]
  },
  {
   "cell_type": "markdown",
   "metadata": {},
   "source": [
    "For highly-skewed feature distributions such as `'capital-gain'` and `'capital-loss'`, it is common practice to apply a <a href=\"https://en.wikipedia.org/wiki/Data_transformation_(statistics)\">logarithmic transformation</a> on the data so that the very large and very small values do not negatively affect the performance of a learning algorithm. Using a logarithmic transformation significantly reduces the range of values caused by outliers. Care must be taken when applying this transformation however: The logarithm of `0` is undefined, so we must translate the values by a small amount above `0` to apply the the logarithm successfully.\n",
    "\n",
    "Run the code cell below to perform a transformation on the data and visualize the results. Again, note the range of values and how they are distributed. "
   ]
  },
  {
   "cell_type": "code",
<<<<<<< HEAD
   "execution_count": 6,
   "metadata": {},
   "outputs": [
    {
     "data": {
      "image/png": "iVBORw0KGgoAAAANSUhEUgAAAxAAAAF2CAYAAAD+y36TAAAABHNCSVQICAgIfAhkiAAAAAlwSFlz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\nlt95AAAAAElFTkSuQmCC\n",
      "text/plain": [
       "<matplotlib.figure.Figure at 0x11148ca50>"
      ]
     },
     "metadata": {},
     "output_type": "display_data"
    }
   ],
=======
   "execution_count": null,
   "metadata": {
    "collapsed": true
   },
   "outputs": [],
>>>>>>> 48178d734ba9e97291498b5ebc57639a71f6548c
   "source": [
    "# Log-transform the skewed features\n",
    "skewed = ['capital-gain', 'capital-loss']\n",
    "features_log_transformed = pd.DataFrame(data = features_raw)\n",
    "features_log_transformed[skewed] = features_raw[skewed].apply(lambda x: np.log(x + 1))\n",
    "\n",
    "# Visualize the new log distributions\n",
    "vs.distribution(features_log_transformed, transformed = True)"
   ]
  },
  {
   "cell_type": "markdown",
   "metadata": {},
   "source": [
    "### Normalizing Numerical Features\n",
    "In addition to performing transformations on features that are highly skewed, it is often good practice to perform some type of scaling on numerical features. Applying a scaling to the data does not change the shape of each feature's distribution (such as `'capital-gain'` or `'capital-loss'` above); however, normalization ensures that each feature is treated equally when applying supervised learners. Note that once scaling is applied, observing the data in its raw form will no longer have the same original meaning, as exampled below.\n",
    "\n",
    "Run the code cell below to normalize each numerical feature. We will use [`sklearn.preprocessing.MinMaxScaler`](http://scikit-learn.org/stable/modules/generated/sklearn.preprocessing.MinMaxScaler.html) for this."
   ]
  },
  {
   "cell_type": "code",
<<<<<<< HEAD
   "execution_count": 7,
   "metadata": {},
   "outputs": [
    {
     "data": {
      "text/html": [
       "<div>\n",
       "<style>\n",
       "    .dataframe thead tr:only-child th {\n",
       "        text-align: right;\n",
       "    }\n",
       "\n",
       "    .dataframe thead th {\n",
       "        text-align: left;\n",
       "    }\n",
       "\n",
       "    .dataframe tbody tr th {\n",
       "        vertical-align: top;\n",
       "    }\n",
       "</style>\n",
       "<table border=\"1\" class=\"dataframe\">\n",
       "  <thead>\n",
       "    <tr style=\"text-align: right;\">\n",
       "      <th></th>\n",
       "      <th>age</th>\n",
       "      <th>workclass</th>\n",
       "      <th>education_level</th>\n",
       "      <th>education-num</th>\n",
       "      <th>marital-status</th>\n",
       "      <th>occupation</th>\n",
       "      <th>relationship</th>\n",
       "      <th>race</th>\n",
       "      <th>sex</th>\n",
       "      <th>capital-gain</th>\n",
       "      <th>capital-loss</th>\n",
       "      <th>hours-per-week</th>\n",
       "      <th>native-country</th>\n",
       "    </tr>\n",
       "  </thead>\n",
       "  <tbody>\n",
       "    <tr>\n",
       "      <th>0</th>\n",
       "      <td>0.30137</td>\n",
       "      <td>State-gov</td>\n",
       "      <td>Bachelors</td>\n",
       "      <td>0.8</td>\n",
       "      <td>Never-married</td>\n",
       "      <td>Adm-clerical</td>\n",
       "      <td>Not-in-family</td>\n",
       "      <td>White</td>\n",
       "      <td>Male</td>\n",
       "      <td>0.02174</td>\n",
       "      <td>0.0</td>\n",
       "      <td>0.397959</td>\n",
       "      <td>United-States</td>\n",
       "    </tr>\n",
       "  </tbody>\n",
       "</table>\n",
       "</div>"
      ],
      "text/plain": [
       "       age   workclass education_level  education-num  marital-status  \\\n",
       "0  0.30137   State-gov       Bachelors            0.8   Never-married   \n",
       "\n",
       "      occupation    relationship    race    sex  capital-gain  capital-loss  \\\n",
       "0   Adm-clerical   Not-in-family   White   Male       0.02174           0.0   \n",
       "\n",
       "   hours-per-week  native-country  \n",
       "0        0.397959   United-States  "
      ]
     },
     "metadata": {},
     "output_type": "display_data"
    }
   ],
=======
   "execution_count": null,
   "metadata": {
    "collapsed": true
   },
   "outputs": [],
>>>>>>> 48178d734ba9e97291498b5ebc57639a71f6548c
   "source": [
    "# Import sklearn.preprocessing.StandardScaler\n",
    "from sklearn.preprocessing import MinMaxScaler\n",
    "\n",
    "# Initialize a scaler, then apply it to the features\n",
    "scaler = MinMaxScaler() # default=(0, 1)\n",
    "numerical = ['age', 'education-num', 'capital-gain', 'capital-loss', 'hours-per-week']\n",
    "\n",
    "features_log_minmax_transform = pd.DataFrame(data = features_log_transformed)\n",
    "features_log_minmax_transform[numerical] = scaler.fit_transform(features_log_transformed[numerical])\n",
    "\n",
    "# Show an example of a record with scaling applied\n",
    "display(features_log_minmax_transform.head(n = 5))"
   ]
  },
  {
   "cell_type": "markdown",
   "metadata": {},
   "source": [
    "### Implementation: Data Preprocessing\n",
    "\n",
    "From the table in **Exploring the Data** above, we can see there are several features for each record that are non-numeric. Typically, learning algorithms expect input to be numeric, which requires that non-numeric features (called *categorical variables*) be converted. One popular way to convert categorical variables is by using the **one-hot encoding** scheme. One-hot encoding creates a _\"dummy\"_ variable for each possible category of each non-numeric feature. For example, assume `someFeature` has three possible entries: `A`, `B`, or `C`. We then encode this feature into `someFeature_A`, `someFeature_B` and `someFeature_C`.\n",
    "\n",
    "|   | someFeature |                    | someFeature_A | someFeature_B | someFeature_C |\n",
    "| :-: | :-: |                            | :-: | :-: | :-: |\n",
    "| 0 |  B  |  | 0 | 1 | 0 |\n",
    "| 1 |  C  | ----> one-hot encode ----> | 0 | 0 | 1 |\n",
    "| 2 |  A  |  | 1 | 0 | 0 |\n",
    "\n",
    "Additionally, as with the non-numeric features, we need to convert the non-numeric target label, `'income'` to numerical values for the learning algorithm to work. Since there are only two possible categories for this label (\"<=50K\" and \">50K\"), we can avoid using one-hot encoding and simply encode these two categories as `0` and `1`, respectively. In code cell below, you will need to implement the following:\n",
    " - Use [`pandas.get_dummies()`](http://pandas.pydata.org/pandas-docs/stable/generated/pandas.get_dummies.html?highlight=get_dummies#pandas.get_dummies) to perform one-hot encoding on the `'features_log_minmax_transform'` data.\n",
    " - Convert the target label `'income_raw'` to numerical entries.\n",
    "   - Set records with \"<=50K\" to `0` and records with \">50K\" to `1`."
   ]
  },
  {
   "cell_type": "code",
   "execution_count": 8,
   "metadata": {},
   "outputs": [
    {
     "data": {
      "text/plain": [
       "<=50K    34014\n",
       ">50K     11208\n",
       "Name: income, dtype: int64"
      ]
     },
     "execution_count": 8,
     "metadata": {},
     "output_type": "execute_result"
    }
   ],
   "source": [
    "income_raw.value_counts()"
   ]
  },
  {
   "cell_type": "code",
   "execution_count": 13,
   "metadata": {
    "collapsed": true,
    "scrolled": true
   },
   "outputs": [
    {
     "name": "stdout",
     "output_type": "stream",
     "text": [
      "103 total features after one-hot encoding.\n",
      "['age', 'education-num', 'capital-gain', 'capital-loss', 'hours-per-week', 'workclass_ Federal-gov', 'workclass_ Local-gov', 'workclass_ Private', 'workclass_ Self-emp-inc', 'workclass_ Self-emp-not-inc', 'workclass_ State-gov', 'workclass_ Without-pay', 'education_level_ 10th', 'education_level_ 11th', 'education_level_ 12th', 'education_level_ 1st-4th', 'education_level_ 5th-6th', 'education_level_ 7th-8th', 'education_level_ 9th', 'education_level_ Assoc-acdm', 'education_level_ Assoc-voc', 'education_level_ Bachelors', 'education_level_ Doctorate', 'education_level_ HS-grad', 'education_level_ Masters', 'education_level_ Preschool', 'education_level_ Prof-school', 'education_level_ Some-college', 'marital-status_ Divorced', 'marital-status_ Married-AF-spouse', 'marital-status_ Married-civ-spouse', 'marital-status_ Married-spouse-absent', 'marital-status_ Never-married', 'marital-status_ Separated', 'marital-status_ Widowed', 'occupation_ Adm-clerical', 'occupation_ Armed-Forces', 'occupation_ Craft-repair', 'occupation_ Exec-managerial', 'occupation_ Farming-fishing', 'occupation_ Handlers-cleaners', 'occupation_ Machine-op-inspct', 'occupation_ Other-service', 'occupation_ Priv-house-serv', 'occupation_ Prof-specialty', 'occupation_ Protective-serv', 'occupation_ Sales', 'occupation_ Tech-support', 'occupation_ Transport-moving', 'relationship_ Husband', 'relationship_ Not-in-family', 'relationship_ Other-relative', 'relationship_ Own-child', 'relationship_ Unmarried', 'relationship_ Wife', 'race_ Amer-Indian-Eskimo', 'race_ Asian-Pac-Islander', 'race_ Black', 'race_ Other', 'race_ White', 'sex_ Female', 'sex_ Male', 'native-country_ Cambodia', 'native-country_ Canada', 'native-country_ China', 'native-country_ Columbia', 'native-country_ Cuba', 'native-country_ Dominican-Republic', 'native-country_ Ecuador', 'native-country_ El-Salvador', 'native-country_ England', 'native-country_ France', 'native-country_ Germany', 'native-country_ Greece', 'native-country_ Guatemala', 'native-country_ Haiti', 'native-country_ Holand-Netherlands', 'native-country_ Honduras', 'native-country_ Hong', 'native-country_ Hungary', 'native-country_ India', 'native-country_ Iran', 'native-country_ Ireland', 'native-country_ Italy', 'native-country_ Jamaica', 'native-country_ Japan', 'native-country_ Laos', 'native-country_ Mexico', 'native-country_ Nicaragua', 'native-country_ Outlying-US(Guam-USVI-etc)', 'native-country_ Peru', 'native-country_ Philippines', 'native-country_ Poland', 'native-country_ Portugal', 'native-country_ Puerto-Rico', 'native-country_ Scotland', 'native-country_ South', 'native-country_ Taiwan', 'native-country_ Thailand', 'native-country_ Trinadad&Tobago', 'native-country_ United-States', 'native-country_ Vietnam', 'native-country_ Yugoslavia']\n"
     ]
    }
   ],
   "source": [
<<<<<<< HEAD
    "# TODO: One-hot encode the 'features_raw' data using pandas.get_dummies()\n",
    "features = pd.get_dummies(features_raw)\n",
=======
    "# TODO: One-hot encode the 'features_log_minmax_transform' data using pandas.get_dummies()\n",
    "features_final = None\n",
>>>>>>> 48178d734ba9e97291498b5ebc57639a71f6548c
    "\n",
    "# TODO: Encode the 'income_raw' data to numerical values\n",
    "income = (income_raw == '>50K').astype(int)\n",
    "#income = income_raw.apply(lambda x : 1 if x == \">50K\" else 0)\n",
    "\n",
    "# Print the number of features after one-hot encoding\n",
    "encoded = list(features_final.columns)\n",
    "print \"{} total features after one-hot encoding.\".format(len(encoded))\n",
    "\n",
    "# Uncomment the following line to see the encoded feature names\n",
<<<<<<< HEAD
    "print encoded"
   ]
  },
  {
   "cell_type": "code",
   "execution_count": 14,
   "metadata": {},
   "outputs": [
    {
     "data": {
      "text/plain": [
       "0    <=50K\n",
       "1    <=50K\n",
       "2    <=50K\n",
       "3    <=50K\n",
       "4    <=50K\n",
       "5    <=50K\n",
       "6    <=50K\n",
       "7     >50K\n",
       "8     >50K\n",
       "9     >50K\n",
       "Name: income, dtype: object"
      ]
     },
     "metadata": {},
     "output_type": "display_data"
    },
    {
     "data": {
      "text/plain": [
       "0    0\n",
       "1    0\n",
       "2    0\n",
       "3    0\n",
       "4    0\n",
       "5    0\n",
       "6    0\n",
       "7    1\n",
       "8    1\n",
       "9    1\n",
       "Name: income, dtype: int64"
      ]
     },
     "metadata": {},
     "output_type": "display_data"
    }
   ],
   "source": [
    "# Display the first 10 records\n",
    "display(income_raw.head(n=10))\n",
    "display(income.head(n=10))"
=======
    "# print encoded"
>>>>>>> 48178d734ba9e97291498b5ebc57639a71f6548c
   ]
  },
  {
   "cell_type": "markdown",
   "metadata": {},
   "source": [
    "### Shuffle and Split Data\n",
    "Now all _categorical variables_ have been converted into numerical features, and all numerical features have been normalized. As always, we will now split the data (both features and their labels) into training and test sets. 80% of the data will be used for training and 20% for testing.\n",
    "\n",
    "Run the code cell below to perform this split."
   ]
  },
  {
   "cell_type": "code",
<<<<<<< HEAD
   "execution_count": 15,
   "metadata": {},
   "outputs": [
    {
     "name": "stdout",
     "output_type": "stream",
     "text": [
      "Training set has 36177 samples.\n",
      "Testing set has 9045 samples.\n"
     ]
    },
    {
     "data": {
      "text/html": [
       "<div>\n",
       "<style>\n",
       "    .dataframe thead tr:only-child th {\n",
       "        text-align: right;\n",
       "    }\n",
       "\n",
       "    .dataframe thead th {\n",
       "        text-align: left;\n",
       "    }\n",
       "\n",
       "    .dataframe tbody tr th {\n",
       "        vertical-align: top;\n",
       "    }\n",
       "</style>\n",
       "<table border=\"1\" class=\"dataframe\">\n",
       "  <thead>\n",
       "    <tr style=\"text-align: right;\">\n",
       "      <th></th>\n",
       "      <th>age</th>\n",
       "      <th>education-num</th>\n",
       "      <th>capital-gain</th>\n",
       "      <th>capital-loss</th>\n",
       "      <th>hours-per-week</th>\n",
       "      <th>workclass_ Federal-gov</th>\n",
       "      <th>workclass_ Local-gov</th>\n",
       "      <th>workclass_ Private</th>\n",
       "      <th>workclass_ Self-emp-inc</th>\n",
       "      <th>workclass_ Self-emp-not-inc</th>\n",
       "      <th>...</th>\n",
       "      <th>native-country_ Portugal</th>\n",
       "      <th>native-country_ Puerto-Rico</th>\n",
       "      <th>native-country_ Scotland</th>\n",
       "      <th>native-country_ South</th>\n",
       "      <th>native-country_ Taiwan</th>\n",
       "      <th>native-country_ Thailand</th>\n",
       "      <th>native-country_ Trinadad&amp;Tobago</th>\n",
       "      <th>native-country_ United-States</th>\n",
       "      <th>native-country_ Vietnam</th>\n",
       "      <th>native-country_ Yugoslavia</th>\n",
       "    </tr>\n",
       "  </thead>\n",
       "  <tbody>\n",
       "    <tr>\n",
       "      <th>13181</th>\n",
       "      <td>0.410959</td>\n",
       "      <td>0.600000</td>\n",
       "      <td>0.000000</td>\n",
       "      <td>0.000000</td>\n",
       "      <td>0.500000</td>\n",
       "      <td>0</td>\n",
       "      <td>0</td>\n",
       "      <td>1</td>\n",
       "      <td>0</td>\n",
       "      <td>0</td>\n",
       "      <td>...</td>\n",
       "      <td>0</td>\n",
       "      <td>0</td>\n",
       "      <td>0</td>\n",
       "      <td>0</td>\n",
       "      <td>0</td>\n",
       "      <td>0</td>\n",
       "      <td>0</td>\n",
       "      <td>1</td>\n",
       "      <td>0</td>\n",
       "      <td>0</td>\n",
       "    </tr>\n",
       "    <tr>\n",
       "      <th>10342</th>\n",
       "      <td>0.438356</td>\n",
       "      <td>0.533333</td>\n",
       "      <td>0.000000</td>\n",
       "      <td>0.000000</td>\n",
       "      <td>0.397959</td>\n",
       "      <td>0</td>\n",
       "      <td>0</td>\n",
       "      <td>1</td>\n",
       "      <td>0</td>\n",
       "      <td>0</td>\n",
       "      <td>...</td>\n",
       "      <td>0</td>\n",
       "      <td>0</td>\n",
       "      <td>0</td>\n",
       "      <td>0</td>\n",
       "      <td>0</td>\n",
       "      <td>0</td>\n",
       "      <td>0</td>\n",
       "      <td>1</td>\n",
       "      <td>0</td>\n",
       "      <td>0</td>\n",
       "    </tr>\n",
       "    <tr>\n",
       "      <th>20881</th>\n",
       "      <td>0.054795</td>\n",
       "      <td>0.666667</td>\n",
       "      <td>0.000000</td>\n",
       "      <td>0.000000</td>\n",
       "      <td>0.357143</td>\n",
       "      <td>0</td>\n",
       "      <td>0</td>\n",
       "      <td>1</td>\n",
       "      <td>0</td>\n",
       "      <td>0</td>\n",
       "      <td>...</td>\n",
       "      <td>0</td>\n",
       "      <td>0</td>\n",
       "      <td>0</td>\n",
       "      <td>0</td>\n",
       "      <td>0</td>\n",
       "      <td>0</td>\n",
       "      <td>0</td>\n",
       "      <td>1</td>\n",
       "      <td>0</td>\n",
       "      <td>0</td>\n",
       "    </tr>\n",
       "    <tr>\n",
       "      <th>24972</th>\n",
       "      <td>0.301370</td>\n",
       "      <td>0.866667</td>\n",
       "      <td>0.000000</td>\n",
       "      <td>0.453857</td>\n",
       "      <td>0.448980</td>\n",
       "      <td>0</td>\n",
       "      <td>1</td>\n",
       "      <td>0</td>\n",
       "      <td>0</td>\n",
       "      <td>0</td>\n",
       "      <td>...</td>\n",
       "      <td>0</td>\n",
       "      <td>0</td>\n",
       "      <td>0</td>\n",
       "      <td>0</td>\n",
       "      <td>0</td>\n",
       "      <td>0</td>\n",
       "      <td>0</td>\n",
       "      <td>1</td>\n",
       "      <td>0</td>\n",
       "      <td>0</td>\n",
       "    </tr>\n",
       "    <tr>\n",
       "      <th>43867</th>\n",
       "      <td>0.246575</td>\n",
       "      <td>0.600000</td>\n",
       "      <td>0.000000</td>\n",
       "      <td>0.000000</td>\n",
       "      <td>0.500000</td>\n",
       "      <td>0</td>\n",
       "      <td>0</td>\n",
       "      <td>1</td>\n",
       "      <td>0</td>\n",
       "      <td>0</td>\n",
       "      <td>...</td>\n",
       "      <td>0</td>\n",
       "      <td>0</td>\n",
       "      <td>0</td>\n",
       "      <td>0</td>\n",
       "      <td>0</td>\n",
       "      <td>0</td>\n",
       "      <td>0</td>\n",
       "      <td>1</td>\n",
       "      <td>0</td>\n",
       "      <td>0</td>\n",
       "    </tr>\n",
       "    <tr>\n",
       "      <th>4124</th>\n",
       "      <td>0.315068</td>\n",
       "      <td>0.533333</td>\n",
       "      <td>0.000000</td>\n",
       "      <td>0.000000</td>\n",
       "      <td>0.397959</td>\n",
       "      <td>0</td>\n",
       "      <td>0</td>\n",
       "      <td>1</td>\n",
       "      <td>0</td>\n",
       "      <td>0</td>\n",
       "      <td>...</td>\n",
       "      <td>0</td>\n",
       "      <td>0</td>\n",
       "      <td>0</td>\n",
       "      <td>0</td>\n",
       "      <td>0</td>\n",
       "      <td>0</td>\n",
       "      <td>0</td>\n",
       "      <td>1</td>\n",
       "      <td>0</td>\n",
       "      <td>0</td>\n",
       "    </tr>\n",
       "    <tr>\n",
       "      <th>17641</th>\n",
       "      <td>0.054795</td>\n",
       "      <td>0.600000</td>\n",
       "      <td>0.000000</td>\n",
       "      <td>0.000000</td>\n",
       "      <td>0.397959</td>\n",
       "      <td>0</td>\n",
       "      <td>0</td>\n",
       "      <td>1</td>\n",
       "      <td>0</td>\n",
       "      <td>0</td>\n",
       "      <td>...</td>\n",
       "      <td>0</td>\n",
       "      <td>0</td>\n",
       "      <td>0</td>\n",
       "      <td>0</td>\n",
       "      <td>0</td>\n",
       "      <td>0</td>\n",
       "      <td>0</td>\n",
       "      <td>1</td>\n",
       "      <td>0</td>\n",
       "      <td>0</td>\n",
       "    </tr>\n",
       "    <tr>\n",
       "      <th>17273</th>\n",
       "      <td>0.561644</td>\n",
       "      <td>0.400000</td>\n",
       "      <td>0.000000</td>\n",
       "      <td>0.000000</td>\n",
       "      <td>0.397959</td>\n",
       "      <td>0</td>\n",
       "      <td>0</td>\n",
       "      <td>1</td>\n",
       "      <td>0</td>\n",
       "      <td>0</td>\n",
       "      <td>...</td>\n",
       "      <td>0</td>\n",
       "      <td>0</td>\n",
       "      <td>0</td>\n",
       "      <td>0</td>\n",
       "      <td>0</td>\n",
       "      <td>0</td>\n",
       "      <td>0</td>\n",
       "      <td>1</td>\n",
       "      <td>0</td>\n",
       "      <td>0</td>\n",
       "    </tr>\n",
       "    <tr>\n",
       "      <th>41191</th>\n",
       "      <td>0.109589</td>\n",
       "      <td>0.800000</td>\n",
       "      <td>0.000000</td>\n",
       "      <td>0.000000</td>\n",
       "      <td>0.397959</td>\n",
       "      <td>0</td>\n",
       "      <td>0</td>\n",
       "      <td>0</td>\n",
       "      <td>0</td>\n",
       "      <td>0</td>\n",
       "      <td>...</td>\n",
       "      <td>0</td>\n",
       "      <td>0</td>\n",
       "      <td>0</td>\n",
       "      <td>0</td>\n",
       "      <td>0</td>\n",
       "      <td>0</td>\n",
       "      <td>0</td>\n",
       "      <td>1</td>\n",
       "      <td>0</td>\n",
       "      <td>0</td>\n",
       "    </tr>\n",
       "    <tr>\n",
       "      <th>5386</th>\n",
       "      <td>0.232877</td>\n",
       "      <td>0.800000</td>\n",
       "      <td>0.000000</td>\n",
       "      <td>0.000000</td>\n",
       "      <td>0.377551</td>\n",
       "      <td>0</td>\n",
       "      <td>0</td>\n",
       "      <td>0</td>\n",
       "      <td>0</td>\n",
       "      <td>0</td>\n",
       "      <td>...</td>\n",
       "      <td>0</td>\n",
       "      <td>0</td>\n",
       "      <td>0</td>\n",
       "      <td>0</td>\n",
       "      <td>0</td>\n",
       "      <td>0</td>\n",
       "      <td>0</td>\n",
       "      <td>1</td>\n",
       "      <td>0</td>\n",
       "      <td>0</td>\n",
       "    </tr>\n",
       "    <tr>\n",
       "      <th>28449</th>\n",
       "      <td>0.356164</td>\n",
       "      <td>0.800000</td>\n",
       "      <td>0.000000</td>\n",
       "      <td>0.000000</td>\n",
       "      <td>0.346939</td>\n",
       "      <td>0</td>\n",
       "      <td>0</td>\n",
       "      <td>1</td>\n",
       "      <td>0</td>\n",
       "      <td>0</td>\n",
       "      <td>...</td>\n",
       "      <td>0</td>\n",
       "      <td>0</td>\n",
       "      <td>0</td>\n",
       "      <td>0</td>\n",
       "      <td>0</td>\n",
       "      <td>0</td>\n",
       "      <td>0</td>\n",
       "      <td>1</td>\n",
       "      <td>0</td>\n",
       "      <td>0</td>\n",
       "    </tr>\n",
       "    <tr>\n",
       "      <th>4955</th>\n",
       "      <td>0.191781</td>\n",
       "      <td>0.600000</td>\n",
       "      <td>0.000000</td>\n",
       "      <td>0.000000</td>\n",
       "      <td>0.602041</td>\n",
       "      <td>0</td>\n",
       "      <td>0</td>\n",
       "      <td>0</td>\n",
       "      <td>0</td>\n",
       "      <td>1</td>\n",
       "      <td>...</td>\n",
       "      <td>0</td>\n",
       "      <td>0</td>\n",
       "      <td>0</td>\n",
       "      <td>0</td>\n",
       "      <td>0</td>\n",
       "      <td>0</td>\n",
       "      <td>0</td>\n",
       "      <td>1</td>\n",
       "      <td>0</td>\n",
       "      <td>0</td>\n",
       "    </tr>\n",
       "    <tr>\n",
       "      <th>41332</th>\n",
       "      <td>0.315068</td>\n",
       "      <td>0.533333</td>\n",
       "      <td>0.000000</td>\n",
       "      <td>0.000000</td>\n",
       "      <td>0.397959</td>\n",
       "      <td>0</td>\n",
       "      <td>0</td>\n",
       "      <td>1</td>\n",
       "      <td>0</td>\n",
       "      <td>0</td>\n",
       "      <td>...</td>\n",
       "      <td>0</td>\n",
       "      <td>0</td>\n",
       "      <td>0</td>\n",
       "      <td>0</td>\n",
       "      <td>0</td>\n",
       "      <td>0</td>\n",
       "      <td>0</td>\n",
       "      <td>1</td>\n",
       "      <td>0</td>\n",
       "      <td>0</td>\n",
       "    </tr>\n",
       "    <tr>\n",
       "      <th>33898</th>\n",
       "      <td>0.479452</td>\n",
       "      <td>0.533333</td>\n",
       "      <td>0.150242</td>\n",
       "      <td>0.000000</td>\n",
       "      <td>0.397959</td>\n",
       "      <td>0</td>\n",
       "      <td>0</td>\n",
       "      <td>1</td>\n",
       "      <td>0</td>\n",
       "      <td>0</td>\n",
       "      <td>...</td>\n",
       "      <td>0</td>\n",
       "      <td>0</td>\n",
       "      <td>0</td>\n",
       "      <td>0</td>\n",
       "      <td>0</td>\n",
       "      <td>0</td>\n",
       "      <td>0</td>\n",
       "      <td>1</td>\n",
       "      <td>0</td>\n",
       "      <td>0</td>\n",
       "    </tr>\n",
       "    <tr>\n",
       "      <th>3413</th>\n",
       "      <td>0.054795</td>\n",
       "      <td>0.600000</td>\n",
       "      <td>0.000000</td>\n",
       "      <td>0.000000</td>\n",
       "      <td>0.193878</td>\n",
       "      <td>0</td>\n",
       "      <td>0</td>\n",
       "      <td>1</td>\n",
       "      <td>0</td>\n",
       "      <td>0</td>\n",
       "      <td>...</td>\n",
       "      <td>0</td>\n",
       "      <td>0</td>\n",
       "      <td>0</td>\n",
       "      <td>0</td>\n",
       "      <td>0</td>\n",
       "      <td>0</td>\n",
       "      <td>0</td>\n",
       "      <td>1</td>\n",
       "      <td>0</td>\n",
       "      <td>0</td>\n",
       "    </tr>\n",
       "    <tr>\n",
       "      <th>39582</th>\n",
       "      <td>0.369863</td>\n",
       "      <td>0.400000</td>\n",
       "      <td>0.000000</td>\n",
       "      <td>0.000000</td>\n",
       "      <td>0.397959</td>\n",
       "      <td>0</td>\n",
       "      <td>0</td>\n",
       "      <td>1</td>\n",
       "      <td>0</td>\n",
       "      <td>0</td>\n",
       "      <td>...</td>\n",
       "      <td>0</td>\n",
       "      <td>0</td>\n",
       "      <td>0</td>\n",
       "      <td>0</td>\n",
       "      <td>0</td>\n",
       "      <td>0</td>\n",
       "      <td>0</td>\n",
       "      <td>1</td>\n",
       "      <td>0</td>\n",
       "      <td>0</td>\n",
       "    </tr>\n",
       "    <tr>\n",
       "      <th>33986</th>\n",
       "      <td>0.232877</td>\n",
       "      <td>0.600000</td>\n",
       "      <td>0.000000</td>\n",
       "      <td>0.000000</td>\n",
       "      <td>0.295918</td>\n",
       "      <td>0</td>\n",
       "      <td>0</td>\n",
       "      <td>1</td>\n",
       "      <td>0</td>\n",
       "      <td>0</td>\n",
       "      <td>...</td>\n",
       "      <td>0</td>\n",
       "      <td>0</td>\n",
       "      <td>0</td>\n",
       "      <td>0</td>\n",
       "      <td>0</td>\n",
       "      <td>0</td>\n",
       "      <td>0</td>\n",
       "      <td>1</td>\n",
       "      <td>0</td>\n",
       "      <td>0</td>\n",
       "    </tr>\n",
       "    <tr>\n",
       "      <th>1797</th>\n",
       "      <td>0.178082</td>\n",
       "      <td>0.800000</td>\n",
       "      <td>0.000000</td>\n",
       "      <td>0.000000</td>\n",
       "      <td>0.397959</td>\n",
       "      <td>0</td>\n",
       "      <td>0</td>\n",
       "      <td>1</td>\n",
       "      <td>0</td>\n",
       "      <td>0</td>\n",
       "      <td>...</td>\n",
       "      <td>0</td>\n",
       "      <td>0</td>\n",
       "      <td>0</td>\n",
       "      <td>0</td>\n",
       "      <td>0</td>\n",
       "      <td>0</td>\n",
       "      <td>0</td>\n",
       "      <td>1</td>\n",
       "      <td>0</td>\n",
       "      <td>0</td>\n",
       "    </tr>\n",
       "    <tr>\n",
       "      <th>22785</th>\n",
       "      <td>0.479452</td>\n",
       "      <td>0.600000</td>\n",
       "      <td>0.000000</td>\n",
       "      <td>0.000000</td>\n",
       "      <td>0.959184</td>\n",
       "      <td>0</td>\n",
       "      <td>0</td>\n",
       "      <td>0</td>\n",
       "      <td>0</td>\n",
       "      <td>1</td>\n",
       "      <td>...</td>\n",
       "      <td>0</td>\n",
       "      <td>0</td>\n",
       "      <td>0</td>\n",
       "      <td>0</td>\n",
       "      <td>0</td>\n",
       "      <td>0</td>\n",
       "      <td>0</td>\n",
       "      <td>1</td>\n",
       "      <td>0</td>\n",
       "      <td>0</td>\n",
       "    </tr>\n",
       "    <tr>\n",
       "      <th>36491</th>\n",
       "      <td>0.342466</td>\n",
       "      <td>0.800000</td>\n",
       "      <td>0.000000</td>\n",
       "      <td>0.000000</td>\n",
       "      <td>0.551020</td>\n",
       "      <td>0</td>\n",
       "      <td>1</td>\n",
       "      <td>0</td>\n",
       "      <td>0</td>\n",
       "      <td>0</td>\n",
       "      <td>...</td>\n",
       "      <td>0</td>\n",
       "      <td>0</td>\n",
       "      <td>0</td>\n",
       "      <td>0</td>\n",
       "      <td>0</td>\n",
       "      <td>0</td>\n",
       "      <td>0</td>\n",
       "      <td>1</td>\n",
       "      <td>0</td>\n",
       "      <td>0</td>\n",
       "    </tr>\n",
       "  </tbody>\n",
       "</table>\n",
       "<p>20 rows × 103 columns</p>\n",
       "</div>"
      ],
      "text/plain": [
       "            age  education-num  capital-gain  capital-loss  hours-per-week  \\\n",
       "13181  0.410959       0.600000      0.000000      0.000000        0.500000   \n",
       "10342  0.438356       0.533333      0.000000      0.000000        0.397959   \n",
       "20881  0.054795       0.666667      0.000000      0.000000        0.357143   \n",
       "24972  0.301370       0.866667      0.000000      0.453857        0.448980   \n",
       "43867  0.246575       0.600000      0.000000      0.000000        0.500000   \n",
       "4124   0.315068       0.533333      0.000000      0.000000        0.397959   \n",
       "17641  0.054795       0.600000      0.000000      0.000000        0.397959   \n",
       "17273  0.561644       0.400000      0.000000      0.000000        0.397959   \n",
       "41191  0.109589       0.800000      0.000000      0.000000        0.397959   \n",
       "5386   0.232877       0.800000      0.000000      0.000000        0.377551   \n",
       "28449  0.356164       0.800000      0.000000      0.000000        0.346939   \n",
       "4955   0.191781       0.600000      0.000000      0.000000        0.602041   \n",
       "41332  0.315068       0.533333      0.000000      0.000000        0.397959   \n",
       "33898  0.479452       0.533333      0.150242      0.000000        0.397959   \n",
       "3413   0.054795       0.600000      0.000000      0.000000        0.193878   \n",
       "39582  0.369863       0.400000      0.000000      0.000000        0.397959   \n",
       "33986  0.232877       0.600000      0.000000      0.000000        0.295918   \n",
       "1797   0.178082       0.800000      0.000000      0.000000        0.397959   \n",
       "22785  0.479452       0.600000      0.000000      0.000000        0.959184   \n",
       "36491  0.342466       0.800000      0.000000      0.000000        0.551020   \n",
       "\n",
       "       workclass_ Federal-gov  workclass_ Local-gov  workclass_ Private  \\\n",
       "13181                       0                     0                   1   \n",
       "10342                       0                     0                   1   \n",
       "20881                       0                     0                   1   \n",
       "24972                       0                     1                   0   \n",
       "43867                       0                     0                   1   \n",
       "4124                        0                     0                   1   \n",
       "17641                       0                     0                   1   \n",
       "17273                       0                     0                   1   \n",
       "41191                       0                     0                   0   \n",
       "5386                        0                     0                   0   \n",
       "28449                       0                     0                   1   \n",
       "4955                        0                     0                   0   \n",
       "41332                       0                     0                   1   \n",
       "33898                       0                     0                   1   \n",
       "3413                        0                     0                   1   \n",
       "39582                       0                     0                   1   \n",
       "33986                       0                     0                   1   \n",
       "1797                        0                     0                   1   \n",
       "22785                       0                     0                   0   \n",
       "36491                       0                     1                   0   \n",
       "\n",
       "       workclass_ Self-emp-inc  workclass_ Self-emp-not-inc  \\\n",
       "13181                        0                            0   \n",
       "10342                        0                            0   \n",
       "20881                        0                            0   \n",
       "24972                        0                            0   \n",
       "43867                        0                            0   \n",
       "4124                         0                            0   \n",
       "17641                        0                            0   \n",
       "17273                        0                            0   \n",
       "41191                        0                            0   \n",
       "5386                         0                            0   \n",
       "28449                        0                            0   \n",
       "4955                         0                            1   \n",
       "41332                        0                            0   \n",
       "33898                        0                            0   \n",
       "3413                         0                            0   \n",
       "39582                        0                            0   \n",
       "33986                        0                            0   \n",
       "1797                         0                            0   \n",
       "22785                        0                            1   \n",
       "36491                        0                            0   \n",
       "\n",
       "                  ...              native-country_ Portugal  \\\n",
       "13181             ...                                     0   \n",
       "10342             ...                                     0   \n",
       "20881             ...                                     0   \n",
       "24972             ...                                     0   \n",
       "43867             ...                                     0   \n",
       "4124              ...                                     0   \n",
       "17641             ...                                     0   \n",
       "17273             ...                                     0   \n",
       "41191             ...                                     0   \n",
       "5386              ...                                     0   \n",
       "28449             ...                                     0   \n",
       "4955              ...                                     0   \n",
       "41332             ...                                     0   \n",
       "33898             ...                                     0   \n",
       "3413              ...                                     0   \n",
       "39582             ...                                     0   \n",
       "33986             ...                                     0   \n",
       "1797              ...                                     0   \n",
       "22785             ...                                     0   \n",
       "36491             ...                                     0   \n",
       "\n",
       "       native-country_ Puerto-Rico  native-country_ Scotland  \\\n",
       "13181                            0                         0   \n",
       "10342                            0                         0   \n",
       "20881                            0                         0   \n",
       "24972                            0                         0   \n",
       "43867                            0                         0   \n",
       "4124                             0                         0   \n",
       "17641                            0                         0   \n",
       "17273                            0                         0   \n",
       "41191                            0                         0   \n",
       "5386                             0                         0   \n",
       "28449                            0                         0   \n",
       "4955                             0                         0   \n",
       "41332                            0                         0   \n",
       "33898                            0                         0   \n",
       "3413                             0                         0   \n",
       "39582                            0                         0   \n",
       "33986                            0                         0   \n",
       "1797                             0                         0   \n",
       "22785                            0                         0   \n",
       "36491                            0                         0   \n",
       "\n",
       "       native-country_ South  native-country_ Taiwan  \\\n",
       "13181                      0                       0   \n",
       "10342                      0                       0   \n",
       "20881                      0                       0   \n",
       "24972                      0                       0   \n",
       "43867                      0                       0   \n",
       "4124                       0                       0   \n",
       "17641                      0                       0   \n",
       "17273                      0                       0   \n",
       "41191                      0                       0   \n",
       "5386                       0                       0   \n",
       "28449                      0                       0   \n",
       "4955                       0                       0   \n",
       "41332                      0                       0   \n",
       "33898                      0                       0   \n",
       "3413                       0                       0   \n",
       "39582                      0                       0   \n",
       "33986                      0                       0   \n",
       "1797                       0                       0   \n",
       "22785                      0                       0   \n",
       "36491                      0                       0   \n",
       "\n",
       "       native-country_ Thailand  native-country_ Trinadad&Tobago  \\\n",
       "13181                         0                                0   \n",
       "10342                         0                                0   \n",
       "20881                         0                                0   \n",
       "24972                         0                                0   \n",
       "43867                         0                                0   \n",
       "4124                          0                                0   \n",
       "17641                         0                                0   \n",
       "17273                         0                                0   \n",
       "41191                         0                                0   \n",
       "5386                          0                                0   \n",
       "28449                         0                                0   \n",
       "4955                          0                                0   \n",
       "41332                         0                                0   \n",
       "33898                         0                                0   \n",
       "3413                          0                                0   \n",
       "39582                         0                                0   \n",
       "33986                         0                                0   \n",
       "1797                          0                                0   \n",
       "22785                         0                                0   \n",
       "36491                         0                                0   \n",
       "\n",
       "       native-country_ United-States  native-country_ Vietnam  \\\n",
       "13181                              1                        0   \n",
       "10342                              1                        0   \n",
       "20881                              1                        0   \n",
       "24972                              1                        0   \n",
       "43867                              1                        0   \n",
       "4124                               1                        0   \n",
       "17641                              1                        0   \n",
       "17273                              1                        0   \n",
       "41191                              1                        0   \n",
       "5386                               1                        0   \n",
       "28449                              1                        0   \n",
       "4955                               1                        0   \n",
       "41332                              1                        0   \n",
       "33898                              1                        0   \n",
       "3413                               1                        0   \n",
       "39582                              1                        0   \n",
       "33986                              1                        0   \n",
       "1797                               1                        0   \n",
       "22785                              1                        0   \n",
       "36491                              1                        0   \n",
       "\n",
       "       native-country_ Yugoslavia  \n",
       "13181                           0  \n",
       "10342                           0  \n",
       "20881                           0  \n",
       "24972                           0  \n",
       "43867                           0  \n",
       "4124                            0  \n",
       "17641                           0  \n",
       "17273                           0  \n",
       "41191                           0  \n",
       "5386                            0  \n",
       "28449                           0  \n",
       "4955                            0  \n",
       "41332                           0  \n",
       "33898                           0  \n",
       "3413                            0  \n",
       "39582                           0  \n",
       "33986                           0  \n",
       "1797                            0  \n",
       "22785                           0  \n",
       "36491                           0  \n",
       "\n",
       "[20 rows x 103 columns]"
      ]
     },
     "metadata": {},
     "output_type": "display_data"
    }
   ],
=======
   "execution_count": null,
   "metadata": {
    "collapsed": true
   },
   "outputs": [],
>>>>>>> 48178d734ba9e97291498b5ebc57639a71f6548c
   "source": [
    "# Import train_test_split\n",
    "from sklearn.cross_validation import train_test_split\n",
    "\n",
    "# Split the 'features' and 'income' data into training and testing sets\n",
    "X_train, X_test, y_train, y_test = train_test_split(features_final, \n",
    "                                                    income, \n",
    "                                                    test_size = 0.2, \n",
    "                                                    random_state = 0)\n",
    "\n",
    "# Show the results of the split\n",
    "print \"Training set has {} samples.\".format(X_train.shape[0])\n",
    "print \"Testing set has {} samples.\".format(X_test.shape[0])\n",
    "\n",
    "# Show an example of a record with scaling applied\n",
    "display(X_train.head(n = 20))"
   ]
  },
  {
   "cell_type": "markdown",
   "metadata": {},
   "source": [
    "----\n",
    "## Evaluating Model Performance\n",
    "In this section, we will investigate four different algorithms, and determine which is best at modeling the data. Three of these algorithms will be supervised learners of your choice, and the fourth algorithm is known as a *naive predictor*."
   ]
  },
  {
   "cell_type": "markdown",
   "metadata": {},
   "source": [
    "### Metrics and the Naive Predictor\n",
    "*CharityML*, equipped with their research, knows individuals that make more than \\$50,000 are most likely to donate to their charity. Because of this, *CharityML* is particularly interested in predicting who makes more than \\$50,000 accurately. It would seem that using **accuracy** as a metric for evaluating a particular model's performace would be appropriate. Additionally, identifying someone that *does not* make more than \\$50,000 as someone who does would be detrimental to *CharityML*, since they are looking to find individuals willing to donate. Therefore, a model's ability to precisely predict those that make more than \\$50,000 is *more important* than the model's ability to **recall** those individuals. We can use **F-beta score** as a metric that considers both precision and recall:\n",
    "\n",
    "$$ F_{\\beta} = (1 + \\beta^2) \\cdot \\frac{precision \\cdot recall}{\\left( \\beta^2 \\cdot precision \\right) + recall} $$\n",
    "\n",
    "In particular, when $\\beta = 0.5$, more emphasis is placed on precision. This is called the **F$_{0.5}$ score** (or F-score for simplicity).\n",
    "\n",
    "Looking at the distribution of classes (those who make at most \\$50,000, and those who make more), it's clear most individuals do not make more than \\$50,000. This can greatly affect **accuracy**, since we could simply say *\"this person does not make more than \\$50,000\"* and generally be right, without ever looking at the data! Making such a statement would be called **naive**, since we have not considered any information to substantiate the claim. It is always important to consider the *naive prediction* for your data, to help establish a benchmark for whether a model is performing well. That been said, using that prediction would be pointless: If we predicted all people made less than \\$50,000, *CharityML* would identify no one as donors. \n",
    "\n",
    "\n",
    "#### Note: Recap of accuracy, precision, recall\n",
    "\n",
    "** Accuracy ** measures how often the classifier makes the correct prediction. It’s the ratio of the number of correct predictions to the total number of predictions (the number of test data points).\n",
    "\n",
    "** Precision ** tells us what proportion of messages we classified as spam, actually were spam.\n",
    "It is a ratio of true positives(words classified as spam, and which are actually spam) to all positives(all words classified as spam, irrespective of whether that was the correct classificatio), in other words it is the ratio of\n",
    "\n",
    "`[True Positives/(True Positives + False Positives)]`\n",
    "\n",
    "** Recall(sensitivity)** tells us what proportion of messages that actually were spam were classified by us as spam.\n",
    "It is a ratio of true positives(words classified as spam, and which are actually spam) to all the words that were actually spam, in other words it is the ratio of\n",
    "\n",
    "`[True Positives/(True Positives + False Negatives)]`\n",
    "\n",
    "For classification problems that are skewed in their classification distributions like in our case, for example if we had a 100 text messages and only 2 were spam and the rest 98 weren't, accuracy by itself is not a very good metric. We could classify 90 messages as not spam(including the 2 that were spam but we classify them as not spam, hence they would be false negatives) and 10 as spam(all 10 false positives) and still get a reasonably good accuracy score. For such cases, precision and recall come in very handy. These two metrics can be combined to get the F1 score, which is weighted average(harmonic mean) of the precision and recall scores. This score can range from 0 to 1, with 1 being the best possible F1 score(we take the harmonic mean as we are dealing with ratios)."
   ]
  },
  {
   "cell_type": "markdown",
   "metadata": {},
   "source": [
    "### Question 1 - Naive Predictor Performace\n",
    "* If we chose a model that always predicted an individual made more than $50,000, what would  that model's accuracy and F-score be on this dataset? You must use the code cell below and assign your results to `'accuracy'` and `'fscore'` to be used later.\n",
    "\n",
    "** Please note ** that the the purpose of generating a naive predictor is simply to show what a base model without any intelligence would look like. In the real world, ideally your base model would be either the results of a previous model or could be based on a research paper upon which you are looking to improve. When there is no benchmark model set, getting a result better than random choice is a place you could start from.\n",
    "\n",
    "** HINT: ** \n",
    "\n",
    "* When we have a model that always predicts '1' (i.e. the individual makes more than 50k) then our model will have no True Negatives(TN) or False Negatives(FN) as we are not making any negative('0' value) predictions. Therefore our Accuracy in this case becomes the same as our Precision(True Positives/(True Positives + False Positives)) as every prediction that we have made with value '1' that should have '0' becomes a False Positive; therefore our denominator in this case is the total number of records we have in total. \n",
    "* Our Recall score(True Positives/(True Positives + False Negatives)) in this setting becomes 1 as we have no False Negatives."
   ]
  },
  {
   "cell_type": "code",
<<<<<<< HEAD
   "execution_count": 16,
   "metadata": {},
   "outputs": [
    {
     "data": {
      "text/plain": [
       "pandas.core.series.Series"
      ]
     },
     "execution_count": 16,
     "metadata": {},
     "output_type": "execute_result"
    }
   ],
   "source": [
    "# Let's create a series which hold the naive prediction\n",
    "# We will use it to calculate accuracy and fbeta score\n",
    "\n",
    "naive_pred= pd.Series([1] * len(income))\n",
    "type(naive_pred)"
   ]
  },
  {
   "cell_type": "code",
   "execution_count": 17,
   "metadata": {},
   "outputs": [
    {
     "name": "stdout",
     "output_type": "stream",
     "text": [
      "Naive Predictor: [Accuracy score: 0.2478, F-score: 0.2917]\n"
     ]
    }
   ],
   "source": [
    "# TODO: Calculate accuracy\n",
    "from sklearn.metrics import accuracy_score, fbeta_score, f1_score\n",
    "accuracy = accuracy_score(income,naive_pred)\n",
    "\n",
    "# TODO: Calculate F-score using the formula above for beta = 0.5\n",
    "fscore = fbeta_score(income,naive_pred,average='binary', beta=0.5)\n",
=======
   "execution_count": null,
   "metadata": {
    "collapsed": false
   },
   "outputs": [],
   "source": [
    "'''\n",
    "TP = np.sum(income) # Counting the ones as this is the naive case. Note that 'income' is the 'income_raw' data \n",
    "encoded to numerical values done in the data preprocessing step.\n",
    "FP = income.count() - TP # Specific to the naive case\n",
    "\n",
    "TN = 0 # No predicted negatives in the naive case\n",
    "FN = 0 # No predicted negatives in the naive case\n",
    "'''\n",
    "# TODO: Calculate accuracy, precision and recall\n",
    "accuracy = None\n",
    "recall = None\n",
    "precision = None\n",
    "\n",
    "# TODO: Calculate F-score using the formula above for beta = 0.5 and correct values for precision and recall.\n",
    "fscore = None\n",
>>>>>>> 48178d734ba9e97291498b5ebc57639a71f6548c
    "\n",
    "# Print the results \n",
    "print \"Naive Predictor: [Accuracy score: {:.4f}, F-score: {:.4f}]\".format(accuracy, fscore)"
   ]
  },
  {
   "cell_type": "code",
   "execution_count": 18,
   "metadata": {},
   "outputs": [
    {
     "name": "stdout",
     "output_type": "stream",
     "text": [
      "Naive Predictor: [Accuracy score: 0.2478, F-score: 0.2917]\n"
     ]
    }
   ],
   "source": [
    "# Manually calculating the fbeta_score\n",
    "# TODO: Calculate accuracy = Correctly Predicted / Total\n",
    "accuracy = 11208*1.00/45222\n",
    "beta = 0.5\n",
    "# TODO: Calculate F-score using the formula above for beta = 0.5\n",
    "# Precision  = Correctly Predicted / Total Predicted belonging to that class\n",
    "precision = 11208*1.00/45222\n",
    "#print precision\n",
    "#Recall = Correctly Predicted / Total Actuals of that class\n",
    "recall = 11208*1.00/11208\n",
    "#print recall\n",
    "fscore = (1+pow(beta,2)) *(precision*recall) / ((pow(beta,2)*precision) + recall)\n",
    "#fscore = fbeta_score(income,naive_pred,average='binary', beta=0.5)\n",
    "\n",
    "# Print the results \n",
    "print \"Naive Predictor: [Accuracy score: {:.4f}, F-score: {:.4f}]\".format(accuracy, fscore)\n",
    "\n",
    "#accuracy = n_greater_50k / n_records\n",
    "#fscore = (1.25) * accuracy / (0.25 * accuracy + 1)"
   ]
  },
  {
   "cell_type": "markdown",
   "metadata": {},
   "source": [
    "###  Supervised Learning Models\n",
    "**The following are some of the supervised learning models that are currently available in** [`scikit-learn`](http://scikit-learn.org/stable/supervised_learning.html) **that you may choose from:**\n",
    "- Gaussian Naive Bayes (GaussianNB)\n",
    "- Decision Trees\n",
    "- Ensemble Methods (Bagging, AdaBoost, Random Forest, Gradient Boosting)\n",
    "- K-Nearest Neighbors (KNeighbors)\n",
    "- Stochastic Gradient Descent Classifier (SGDC)\n",
    "- Support Vector Machines (SVM)\n",
    "- Logistic Regression"
   ]
  },
  {
   "cell_type": "markdown",
   "metadata": {},
   "source": [
    "### Question 2 - Model Application\n",
    "List three of the supervised learning models above that are appropriate for this problem that you will test on the census data. For each model chosen\n",
    "\n",
    "- Describe one real-world application in industry where the model can be applied. \n",
    "- What are the strengths of the model; when does it perform well?\n",
    "- What are the weaknesses of the model; when does it perform poorly?\n",
    "- What makes this model a good candidate for the problem, given what you know about the data?\n",
    "\n",
    "** HINT: **\n",
    "\n",
    "Structure your answer in the same format as above^, with 4 parts for each of the three models you pick. Please include references with your answer."
   ]
  },
  {
   "cell_type": "markdown",
   "metadata": {},
   "source": [
    "**Answer: **\n",
    "_List three of the supervised learning models_\n",
    "\n",
    "* **Logistic Regression**\n",
    "* ** SVM **\n",
    "* ** Ensemble Methods **\n"
   ]
  },
  {
   "cell_type": "markdown",
   "metadata": {},
   "source": [
    "\n",
    "- *Describe one real-world application in industry where the model can be applied.* (You may need to do research for this — give references!)\n",
    "\n",
    "** Logistic Regression ** is widely used in industry for various classification problems, for example, banks use Logistic Regression to assess if a customer will respond to a solicitation or not, or pay a loan back to the bank. <sup>[1]\n",
    "\n",
    "** SVM ** is used in areas of pattern recognition, specifically in image recognition, text classification. There have been other areas where SVM's kernel trick comes in handy to identify and recognize non-linear relationships in a much efficient manner. Another property highlighted of SVM in literature is their ability to be independent\n",
    "of the dimensionality of the feature space.<sup>[2]\n",
    "\n",
    "** AdaBoost  ** help in selecting features which are significant for the purpose of predicting an outcome, thereby improving the accuracy of the models. An example of AdaBoost is to predict whether a transaction is fraudulent or not.Another place where Ensemble methods come in handy is to rank feature importances. The most popular application of Ensemble methods is to improve the accuracy was brought to attention during the \"Netflix Competition\"<sup>[3] \n",
    "\n",
    "<hr>\n",
    "\n",
    "[1] [Credit Risk](https://www.researchgate.net/profile/Gabriele_Sabato/publication/4737565_Modelling_Credit_Risk_for_SMEs_Evidence_from_the_US_Market/links/0fcfd512bafe48b705000000/Modelling-Credit-Risk-for-SMEs-Evidence-from-the-US-Market.pdf)\n",
    "\n",
    "[2] [SVM: Publications](https://www.cs.cornell.edu/people/tj/publications/joachims_98a.pdf)\n",
    "\n",
    "[3] [Netflix Prize](http://www.netflixprize.com/)"
   ]
  },
  {
   "cell_type": "markdown",
   "metadata": {},
   "source": [
    "\n",
    "- *What are the strengths of the model; when does it perform well?*\n",
    "\n",
    "** Logistic Regression ** is helpful in identifying the appropriate relationship between dependent and independent varaibles. Not only do we have a probability associated with the outcome, we are also able to measure how changing the independent variables by one unit impact the odds of the outcome. On a more practical side, Logistic Regression is an eager learner and it predict fast, hence it makes it easier to implement the same. The memory requirements and run time don't pose any issue as it only needs to save the parameter estimate values. It works especially well when there is a linear separation between the classes and when we need an estimator with coefficients to explain the model.\n",
    "\n",
    "** SVM ** are especially helpful in providing an easy (to devise) and reliable predictive algorithm where there exists non-linear relationships between predictors and outcomes, especially in a large feature space. SVM can work well on many types of data (low or high-dimensional, linearly divisible or not) thanks to the “kernel trick“. SVMs can fit intricate boundaries with the  Gaussian (RBF) kernel trick.\n",
    "\n",
    "** AdaBoost ** helps in improving the accuracy of our models without leading to overfitting (if we chose the appropriate weak learner). Adaboost essentially combines results in a weighted manner from a several models that we fit using boosting (and bagging). They perform quite well when there are a lot of interactions between the features and it's hard to conduct feature selection.\n",
    "AdaBoost trains a bunch of simplistic models, focusing more over time on the cases failed to be classified correctly in the early ones.\n",
    "They are helpful in solving the problems in their component parts and don't require much time upfront for feature selection. However, they can be extremely slow to fit.Ensemble methods like Adaboost can be sensitive towards noisy data.<sup>[5][6]\n",
    "\n",
    "<hr>\n",
    "\n",
    "[6] [Talks on Boosting by Trevor Hastie](http://web.stanford.edu/~hastie/TALKS/boost.pdf)\n"
   ]
  },
  {
   "cell_type": "markdown",
   "metadata": {},
   "source": [
    "\n",
    "- What are the weaknesses of the model; when does it perform poorly?*\n",
    "\n",
    "** Logistic Regression ** do not work well if the classification problem we are solving reuqires a non-linear classifier. Additionally, they are not as powerful as Ensemble or SVM to generate overall accuracy.\n",
    "\n",
    "** SVM ** SVMs tend to be slow and while they can handle non-linear decision boundary, it comes at the expense of explainability as they are harder to interpret.\n",
    "\n",
    "** AdaBoost  ** AdaBoost learners depend on the chosen weak learners. If weak learner overfits, boosting will end up overfitting<sup>[5].\n",
    "\n",
    "In practive, AdaBoost can sometimes be  slower to fit and can take a long time to refit if the model needs to be updated.\n",
    "\n",
    "<hr>\n",
    "\n",
    "[5] [Adaboost](http://math.mit.edu/~rothvoss/18.304.3PM/Presentations/1-Eric-Boosting304FinalRpdf.pdf)"
   ]
  },
  {
   "cell_type": "markdown",
   "metadata": {},
   "source": [
    "\n",
    "- *What makes this model a good candidate for the problem, given what you know about the data?*\n",
    "\n",
    "** Logistic Regression ** can be a good candidate as they are good at classifying linear decision boundary. Additionally, if we can balance the target class, they can be quite effective. One reason they are a good candidate is that they will allow us to explain the model. Once they are fitted, we can take a look at the parameter estimates to understand the magnitude of change in log odds of the target given unit changes in our independent attributes.\n",
    "\n",
    "** SVM ** can handle non-linear relationships in a large feature space and that is why SVM can be a good candidate for the problem. Once we conduct One-hot-encoding, we can see the independent attributes explode, which SVM can handle rather easily.\n",
    "\n",
    "** AdaBoost ** When it's important to achieve accuracy at the expense of explainabilty, AdaBoost will become a good choice. They are known to produce highly accurate output with little or no oversight and even without hyperparameter tuning, they can beat the other approaches.\n"
   ]
  },
  {
   "cell_type": "markdown",
   "metadata": {},
   "source": [
    "### Implementation - Creating a Training and Predicting Pipeline\n",
    "To properly evaluate the performance of each model you've chosen, it's important that you create a training and predicting pipeline that allows you to quickly and effectively train models using various sizes of training data and perform predictions on the testing data. Your implementation here will be used in the following section.\n",
    "In the code block below, you will need to implement the following:\n",
    " - Import `fbeta_score` and `accuracy_score` from [`sklearn.metrics`](http://scikit-learn.org/stable/modules/classes.html#sklearn-metrics-metrics).\n",
    " - Fit the learner to the sampled training data and record the training time.\n",
    " - Perform predictions on the test data `X_test`, and also on the first 300 training points `X_train[:300]`.\n",
    "   - Record the total prediction time.\n",
    " - Calculate the accuracy score for both the training subset and testing set.\n",
    " - Calculate the F-score for both the training subset and testing set.\n",
    "   - Make sure that you set the `beta` parameter!"
   ]
  },
  {
   "cell_type": "code",
<<<<<<< HEAD
   "execution_count": 25,
=======
   "execution_count": null,
>>>>>>> 48178d734ba9e97291498b5ebc57639a71f6548c
   "metadata": {
    "collapsed": true
   },
   "outputs": [],
   "source": [
    "# TODO: Import two metrics from sklearn - fbeta_score and accuracy_score\n",
    "from sklearn.metrics import fbeta_score, accuracy_score\n",
    "\n",
    "def train_predict(learner, sample_size, X_train, y_train, X_test, y_test): \n",
    "    '''\n",
    "    inputs:\n",
    "       - learner: the learning algorithm to be trained and predicted on\n",
    "       - sample_size: the size of samples (number) to be drawn from training set\n",
    "       - X_train: features training set\n",
    "       - y_train: income training set\n",
    "       - X_test: features testing set\n",
    "       - y_test: income testing set\n",
    "    '''\n",
    "    \n",
    "    results = {}\n",
    "    \n",
    "    # TODO: Fit the learner to the training data using slicing with 'sample_size' using .fit(training_features[:], training_labels[:])\n",
    "    start = time() # Get start time\n",
    "    learner = learner.fit(X_train[:sample_size], y_train[:sample_size])\n",
    "    end = time() # Get end time\n",
    "    \n",
    "    # TODO: Calculate the training time\n",
    "    results['train_time'] = end-start\n",
    "        \n",
    "    # TODO: Get the predictions on the test set(X_test),\n",
    "    #       then get predictions on the first 300 training samples(X_train) using .predict()\n",
    "    start = time() # Get start time\n",
    "    predictions_test = learner.predict(X_test)\n",
    "    predictions_train = learner.predict(X_train[:300])\n",
    "    end = time() # Get end time\n",
    "    \n",
    "    # TODO: Calculate the total prediction time\n",
    "    results['pred_time'] = end-start\n",
    "            \n",
<<<<<<< HEAD
    "    # TODO: Compute accuracy on the first 300 training samples\n",
    "    results['acc_train'] = accuracy_score(y_train[:300],predictions_train[:300])\n",
    "#    results['acc_train'] = accuracy_score(y_train,predictions_train)\n",
    "        \n",
    "    # TODO: Compute accuracy on test set\n",
    "    results['acc_test'] = accuracy_score(y_test,predictions_test)\n",
    "    \n",
    "    # TODO: Compute F-score on the the first 300 training samples\n",
    "    results['f_train'] = fbeta_score(y_train[:300],predictions_train[:300],0.5)\n",
    "#    results['f_train'] = fbeta_score(y_train,predictions_train,0.5)\n",
    "        \n",
    "    # TODO: Compute F-score on the test set\n",
    "    results['f_test'] = fbeta_score(y_test,predictions_test,0.5)\n",
=======
    "    # TODO: Compute accuracy on the first 300 training samples which is y_train[:300]\n",
    "    results['acc_train'] = None\n",
    "        \n",
    "    # TODO: Compute accuracy on test set using accuracy_score()\n",
    "    results['acc_test'] = None\n",
    "    \n",
    "    # TODO: Compute F-score on the the first 300 training samples using fbeta_score()\n",
    "    results['f_train'] = None\n",
    "        \n",
    "    # TODO: Compute F-score on the test set which is y_test\n",
    "    results['f_test'] = None\n",
>>>>>>> 48178d734ba9e97291498b5ebc57639a71f6548c
    "       \n",
    "    # Success\n",
    "    print \"{} trained on {} samples.\".format(learner.__class__.__name__, sample_size)\n",
    "        \n",
    "    # Return the results\n",
    "    return results"
   ]
  },
  {
   "cell_type": "markdown",
   "metadata": {},
   "source": [
    "### Implementation: Initial Model Evaluation\n",
    "In the code cell, you will need to implement the following:\n",
    "- Import the three supervised learning models you've discussed in the previous section.\n",
    "- Initialize the three models and store them in `'clf_A'`, `'clf_B'`, and `'clf_C'`.\n",
    "  - Use a `'random_state'` for each model you use, if provided.\n",
    "  - **Note:** Use the default settings for each model — you will tune one specific model in a later section.\n",
    "- Calculate the number of records equal to 1%, 10%, and 100% of the training data.\n",
    "  - Store those values in `'samples_1'`, `'samples_10'`, and `'samples_100'` respectively.\n",
    "\n",
    "**Note:** Depending on which algorithms you chose, the following implementation may take some time to run!"
   ]
  },
  {
   "cell_type": "code",
<<<<<<< HEAD
   "execution_count": 26,
   "metadata": {},
   "outputs": [
    {
     "data": {
      "text/plain": [
       "36177"
      ]
     },
     "execution_count": 26,
     "metadata": {},
     "output_type": "execute_result"
    }
   ],
   "source": [
    "len(X_train)"
   ]
  },
  {
   "cell_type": "code",
   "execution_count": 27,
   "metadata": {},
   "outputs": [
    {
     "name": "stdout",
     "output_type": "stream",
     "text": [
      "LogisticRegression trained on 361 samples.\n",
      "LogisticRegression trained on 3617 samples.\n",
      "LogisticRegression trained on 36177 samples.\n",
      "SVC trained on 361 samples.\n",
      "SVC trained on 3617 samples.\n",
      "SVC trained on 36177 samples.\n",
      "AdaBoostClassifier trained on 361 samples.\n",
      "AdaBoostClassifier trained on 3617 samples.\n",
      "AdaBoostClassifier trained on 36177 samples.\n"
     ]
    },
    {
     "data": {
      "image/png": "iVBORw0KGgoAAAANSUhEUgAAAwcAAAIuCAYAAADqjHQFAAAABHNCSVQICAgIfAhkiAAAAAlwSFlz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\nVERElFIcREREREQEAP8FmETSD+4mznwAAAAASUVORK5CYII=\n",
      "text/plain": [
       "<matplotlib.figure.Figure at 0x111265710>"
      ]
     },
     "metadata": {},
     "output_type": "display_data"
    }
   ],
=======
   "execution_count": null,
   "metadata": {
    "collapsed": true
   },
   "outputs": [],
>>>>>>> 48178d734ba9e97291498b5ebc57639a71f6548c
   "source": [
    "# TODO: Import the three supervised learning models from sklearn\n",
    "from sklearn.linear_model import LogisticRegression\n",
    "from sklearn.svm import SVC\n",
    "from sklearn.ensemble import AdaBoostClassifier #GradientBoostingClassifier\n",
    "\n",
    "# TODO: Initialize the three models\n",
    "clf_A = LogisticRegression(random_state=0)\n",
    "clf_B = SVC(random_state=0)\n",
    "clf_C = AdaBoostClassifier(random_state=0)\n",
    "\n",
    "# TODO: Calculate the number of samples for 1%, 10%, and 100% of the training data\n",
<<<<<<< HEAD
    "samples_1 = int(len(X_train)*0.01)\n",
    "samples_10 = int(len(X_train)*0.1)\n",
    "samples_100 = int(len(X_train))\n",
    "\n",
=======
    "# HINT: samples_100 is the entire training set i.e. len(y_train)\n",
    "# HINT: samples_10 is 10% of samples_100\n",
    "# HINT: samples_1 is 1% of samples_100\n",
    "samples_100 = None\n",
    "samples_10 = None\n",
    "samples_1 = None\n",
>>>>>>> 48178d734ba9e97291498b5ebc57639a71f6548c
    "\n",
    "# Collect results on the learners\n",
    "results = {}\n",
    "for clf in [clf_A, clf_B, clf_C]:\n",
    "    clf_name = clf.__class__.__name__\n",
    "    results[clf_name] = {}\n",
    "    for i, samples in enumerate([samples_1, samples_10, samples_100]):\n",
    "        results[clf_name][i] = \\\n",
    "        train_predict(clf, samples, X_train, y_train, X_test, y_test)\n",
    "\n",
    "# Run metrics visualization for the three supervised learning models chosen\n",
    "vs.evaluate(results, accuracy, fscore)"
   ]
  },
  {
   "cell_type": "markdown",
   "metadata": {},
   "source": [
    "----\n",
    "## Improving Results\n",
    "In this final section, you will choose from the three supervised learning models the *best* model to use on the student data. You will then perform a grid search optimization for the model over the entire training set (`X_train` and `y_train`) by tuning at least one parameter to improve upon the untuned model's F-score. "
   ]
  },
  {
   "cell_type": "markdown",
   "metadata": {},
   "source": [
    "### Question 3 - Choosing the Best Model\n",
    "\n",
    "* Based on the evaluation you performed earlier, in one to two paragraphs, explain to *CharityML* which of the three models you believe to be most appropriate for the task of identifying individuals that make more than \\$50,000. \n",
    "\n",
    "** HINT: ** \n",
    "Look at the graph at the bottom left from the cell above(the visualization created by `vs.evaluate(results, accuracy, fscore)`) and check the F score for the testing set when 100% of the training set is used. Which model has the highest score? Your answer should include discussion of the:\n",
    "* metrics - F score on the testing when 100% of the training data is used, \n",
    "* prediction/training time\n",
    "* the algorithm's suitability for the data."
   ]
  },
  {
   "cell_type": "markdown",
   "metadata": {},
   "source": [
    "**Answer: ** Ensemble Method (AdaBoost) will be the most appropriate for the task of identifying the donors. \n",
    "\n",
    "* As it can be seen in the above charts, Logistic Regression wins when it comes to time to train the model, it is extremely fast compared to the other two methods tested above. However, it is to be noted that ensemble methods (Adaboost) performs well resulting in high accuracy even with 1% of the data. \n",
    "\n",
    "* Once we have more data, we can see the accuracy scores are fairly comparable among all three approaches, however, with more data, SVM starts to take more time to fit and predict.\n",
    "\n",
    "* Adaboost also beats the other two appraoches when it comes to Fbeta_score without much tweaking.\n",
    "\n",
    "* I belive that we can improve both the accuracy and Fbeta_score of Logistic Regression if we balance the target class (by downsampling) but that will require additional work towards developing the model and these weights will result in adjusting at the time of prediction. Compared to that Adaboost doesn't result in much work and is not as slow as SVM. For our particular problem, it's important to correctly identify the donor so we can maximize our chances of getting donations, hence it's important for us to focus on accuracy and fbeta score to save both money and time by reaching to the right segment."
   ]
  },
  {
   "cell_type": "markdown",
   "metadata": {},
   "source": [
    "### Question 4 - Describing the Model in Layman's Terms\n",
    "\n",
    "* In one to two paragraphs, explain to *CharityML*, in layman's terms, how the final model chosen is supposed to work. Be sure that you are describing the major qualities of the model, such as how the model is trained and how the model makes a prediction. Avoid using advanced mathematical jargon, such as describing equations.\n",
    "\n",
    "** HINT: **\n",
    "\n",
    "When explaining your model, if using external resources please include all citations."
   ]
  },
  {
   "cell_type": "markdown",
   "metadata": {},
   "source": [
    "**Answer: ** \n",
    "\n",
    "Adaboost is an ensemble method which works by training several simplistic models. We start with a very simple way to classify our data items by identifying the class to which they belong. In our case, we try to predict whether they belong to greater than 50K segment or less than or equal to 50K segment.\n",
    "Let's say that we have an experienced executive who is extremely good at predicting what criteria should be applied on capital-gain to identify the same on some old data where we know the right answer. \n",
    "We apply this executive's guidance and identify that while it works on some cases, say 60% of the cases, he gets remaining 40% incorrect. We then ask the executive to apply his criteria but this time we provide him the data by explaining to him that he has to get the ones he got wrong last time and that the accuracy of his prediction has to be better than a random chance (coin toss). His focus now moves to the cases he got wrong the last time while keeping an eye on being better than a random chance. It may happen that this time he choses to focus on age and education level. We keep repeating this process until we are able to accurately predict the right income segment for the people we are evaluating as the executive keeps looking at many different criteria at each ste.\n",
    "This results in the our process to focus more on difficult cases which it failed to correctly classify earlier. Once we have identified ways to classify in such a manner, we can take a weighted sum/vote of his classification criteria which when combined will be extremely accurate. Our simple way to classify may not have high accuracy, but as long as the misclassfication is no more than 0.5 for binary classification, the final model will result in an ensemble learner with high accuracy."
   ]
  },
  {
   "cell_type": "markdown",
   "metadata": {},
   "source": [
    "### Implementation: Model Tuning\n",
    "Fine tune the chosen model. Use grid search (`GridSearchCV`) with at least one important parameter tuned with at least 3 different values. You will need to use the entire training set for this. In the code cell below, you will need to implement the following:\n",
    "- Import [`sklearn.grid_search.GridSearchCV`](http://scikit-learn.org/0.17/modules/generated/sklearn.grid_search.GridSearchCV.html) and [`sklearn.metrics.make_scorer`](http://scikit-learn.org/stable/modules/generated/sklearn.metrics.make_scorer.html).\n",
    "- Initialize the classifier you've chosen and store it in `clf`.\n",
    " - Set a `random_state` if one is available to the same state you set before.\n",
    "- Create a dictionary of parameters you wish to tune for the chosen model.\n",
    " - Example: `parameters = {'parameter' : [list of values]}`.\n",
    " - **Note:** Avoid tuning the `max_features` parameter of your learner if that parameter is available!\n",
    "- Use `make_scorer` to create an `fbeta_score` scoring object (with $\\beta = 0.5$).\n",
    "- Perform grid search on the classifier `clf` using the `'scorer'`, and store it in `grid_obj`.\n",
    "- Fit the grid search object to the training data (`X_train`, `y_train`), and store it in `grid_fit`.\n",
    "\n",
    "**Note:** Depending on the algorithm chosen and the parameter list, the following implementation may take some time to run!"
   ]
  },
  {
   "cell_type": "code",
<<<<<<< HEAD
   "execution_count": 28,
   "metadata": {},
   "outputs": [
    {
     "data": {
      "text/plain": [
       "{'algorithm': 'SAMME.R',\n",
       " 'base_estimator': None,\n",
       " 'learning_rate': 1.0,\n",
       " 'n_estimators': 50,\n",
       " 'random_state': None}"
      ]
     },
     "execution_count": 28,
     "metadata": {},
     "output_type": "execute_result"
    }
   ],
   "source": [
    "AdaBoostClassifier().get_params()"
   ]
  },
  {
   "cell_type": "code",
   "execution_count": 29,
   "metadata": {},
   "outputs": [
    {
     "name": "stdout",
     "output_type": "stream",
     "text": [
      "Unoptimized model\n",
      "------\n",
      "Accuracy score on testing data: 0.8576\n",
      "F-score on testing data: 0.7246\n",
      "\n",
      "Optimized Model\n",
      "------\n",
      "Final accuracy score on the testing data: 0.8651\n",
      "Final F-score on the testing data: 0.7396\n"
     ]
    }
   ],
=======
   "execution_count": null,
   "metadata": {
    "collapsed": true
   },
   "outputs": [],
>>>>>>> 48178d734ba9e97291498b5ebc57639a71f6548c
   "source": [
    "# TODO: Import 'GridSearchCV', 'make_scorer', and any other necessary libraries\n",
    "from sklearn.metrics import fbeta_score\n",
    "from sklearn.metrics import accuracy_score\n",
    "from sklearn.ensemble import AdaBoostClassifier #GradientBoostingClassifier\n",
    "\n",
    "from sklearn.metrics import make_scorer\n",
    "from sklearn.cross_validation import StratifiedShuffleSplit\n",
    "from sklearn import cross_validation, metrics   #Additional scklearn functions\n",
    "from sklearn.grid_search import GridSearchCV   #Performing grid search\n",
    "\n",
    "\n",
    "\n",
    "#gsearch1 = GridSearchCV(estimator = GradientBoostingClassifier(learning_rate=0.1, min_samples_split=500,min_samples_leaf=50,max_depth=8,max_features='sqrt',subsample=0.8,random_state=10), \n",
    "#param_grid = param_test1, scoring='roc_auc',n_jobs=4,iid=False, cv=5)\n",
    "#gsearch1.fit(train[predictors],train[target])\n",
    "\n",
    "# TODO: Initialize the classifier\n",
    "clf = AdaBoostClassifier(random_state=0)\n",
    "\n",
<<<<<<< HEAD
    "# TODO: Create the parameters list you wish to tune\n",
    "parameters = {\n",
    "'n_estimators' : [50,100,150,200],\n",
    "'learning_rate': [0.1,1.0]\n",
    "}\n",
    "\n",
    "# TODO: Make an fbeta_score scoring object\n",
    "scorer = scorer = make_scorer(fbeta_score, beta=0.5)\n",
    "cv = StratifiedShuffleSplit(y_train, test_size=0.5, random_state=2)\n",
    " \n",
    "# TODO: Perform grid search on the classifier using 'scorer' as the scoring method\n",
    "grid_obj = GridSearchCV(clf, parameters, scoring=scorer, cv=cv)\n",
    "\n",
    "# TODO: Fit the grid search object to the training data and find the optimal parameters\n",
    "grid_fit = grid_obj.fit(X_train, y_train)\n",
=======
    "# TODO: Create the parameters list you wish to tune, using a dictionary if needed.\n",
    "# HINT: parameters = {'parameter_1': [value1, value2], 'parameter_2': [value1, value2]}\n",
    "parameters = None\n",
    "\n",
    "# TODO: Make an fbeta_score scoring object using make_scorer()\n",
    "scorer = None\n",
    "\n",
    "# TODO: Perform grid search on the classifier using 'scorer' as the scoring method using GridSearchCV()\n",
    "grid_obj = None\n",
    "\n",
    "# TODO: Fit the grid search object to the training data and find the optimal parameters using fit()\n",
    "grid_fit = None\n",
>>>>>>> 48178d734ba9e97291498b5ebc57639a71f6548c
    "\n",
    "# Get the estimator\n",
    "best_clf = grid_fit.best_estimator_\n",
    "\n",
    "# Make predictions using the unoptimized and model\n",
    "predictions = (clf.fit(X_train, y_train)).predict(X_test)\n",
    "best_predictions = best_clf.predict(X_test)\n",
    "\n",
    "# Report the before-and-afterscores\n",
    "print \"Unoptimized model\\n------\"\n",
    "print \"Accuracy score on testing data: {:.4f}\".format(accuracy_score(y_test, predictions))\n",
    "print \"F-score on testing data: {:.4f}\".format(fbeta_score(y_test, predictions, beta = 0.5))\n",
    "print \"\\nOptimized Model\\n------\"\n",
    "print \"Final accuracy score on the testing data: {:.4f}\".format(accuracy_score(y_test, best_predictions))\n",
    "print \"Final F-score on the testing data: {:.4f}\".format(fbeta_score(y_test, best_predictions, beta = 0.5))"
   ]
  },
  {
   "cell_type": "code",
   "execution_count": 30,
   "metadata": {},
   "outputs": [
    {
     "data": {
      "text/plain": [
       "{'learning_rate': 1.0, 'n_estimators': 200}"
      ]
     },
     "execution_count": 30,
     "metadata": {},
     "output_type": "execute_result"
    }
   ],
   "source": [
    "grid_fit.best_params_"
   ]
  },
  {
   "cell_type": "markdown",
   "metadata": {},
   "source": [
    "### Question 5 - Final Model Evaluation\n",
    "\n",
    "* What is your optimized model's accuracy and F-score on the testing data? \n",
    "* Are these scores better or worse than the unoptimized model? \n",
    "* How do the results from your optimized model compare to the naive predictor benchmarks you found earlier in **Question 1**?_  \n",
    "\n",
    "**Note:** Fill in the table below with your results, and then provide discussion in the **Answer** box."
   ]
  },
  {
   "cell_type": "markdown",
   "metadata": {},
   "source": [
    "#### Results:\n",
    "\n",
<<<<<<< HEAD
    "|     Metric     | Benchmark Predictor | Unoptimized Model | Optimized Model |\n",
    "| :------------: | :-----------------: | :---------------: | :-------------: | \n",
    "| Accuracy Score |       0.2478        |    0.8576         |   0.8651        |\n",
    "| F-score        |       0.2917        |    0.7246         |   0.7396        |\n"
=======
    "|     Metric     | Unoptimized Model | Optimized Model |\n",
    "| :------------: | :---------------: | :-------------: | \n",
    "| Accuracy Score |                   |                 |\n",
    "| F-score        |                   |   EXAMPLE       |\n"
>>>>>>> 48178d734ba9e97291498b5ebc57639a71f6548c
   ]
  },
  {
   "cell_type": "markdown",
   "metadata": {},
   "source": [
    "\n",
    "**Answer: **\n",
    "\n",
    "_Are these scores better or worse than the unoptimized model?_\n",
    "\n",
    "* There is a small improvement (~1%) in both accuracy and F-score between optimized and unoptimized model. One of the reason could be that there are other hyperparameters which can be tuned at the same time. However, due to long execution time on my machine, I decided to restrict myself to only these two parameters. It's hard to assess if 1% improvement is better given that it took several more minutes (by a factor of 10) to fit the model.\n",
    "\n",
    "_How do the results from your optimized model compare to the naive predictor benchmarks you found earlier in Question 1?_\n",
    "\n",
    "* I think we can safely say that we have outsmarted our naive predictor using a more sophisticated model as our optimized model's accuracy is 4 times that of the naive predictor."
   ]
  },
  {
   "cell_type": "markdown",
   "metadata": {},
   "source": [
    "----\n",
    "## Feature Importance\n",
    "\n",
    "An important task when performing supervised learning on a dataset like the census data we study here is determining which features provide the most predictive power. By focusing on the relationship between only a few crucial features and the target label we simplify our understanding of the phenomenon, which is most always a useful thing to do. In the case of this project, that means we wish to identify a small number of features that most strongly predict whether an individual makes at most or more than \\$50,000.\n",
    "\n",
    "Choose a scikit-learn classifier (e.g., adaboost, random forests) that has a `feature_importance_` attribute, which is a function that ranks the importance of features according to the chosen classifier.  In the next python cell fit this classifier to training set and use this attribute to determine the top 5 most important features for the census dataset."
   ]
  },
  {
   "cell_type": "markdown",
   "metadata": {},
   "source": [
    "### Question 6 - Feature Relevance Observation\n",
    "When **Exploring the Data**, it was shown there are thirteen available features for each individual on record in the census data. Of these thirteen records, which five features do you believe to be most important for prediction, and in what order would you rank them and why?"
   ]
  },
  {
   "cell_type": "markdown",
   "metadata": {},
   "source": [
    "**Answer:**\n",
    "\n",
    "* age\t- I will assume that Age plays a big role in one's ability to contribute to charity as people in the 25-48 age group could have stable earnings and job resulting in financially stability. \n",
    "\n",
    "* education_level - People with higher education may be more inclined to find good employment and resulting in good salary.\n",
    "\n",
    "* occupation - In corporate world, the salary is directly linked to occuptaion (which may not be the case for self employed). Hence, the occupation in certain segments (Doctors, Engineers) may have higher earning potential.\n",
    "\n",
    "* capital-gain - One's ability to make money may also rely on their capital gains (in addition to salary).\n",
    "\n",
    "* race/gender - There could be some interaction between race, gender and income potential as largely studied by various researchers.<sup>[4]\n",
    "\n",
    "<hr>\n",
    "[4] [HBR Study ](https://hbr.org/2014/06/does-race-or-gender-matter-more-to-your-paycheck)\n"
   ]
  },
  {
   "cell_type": "markdown",
   "metadata": {},
   "source": [
    "### Implementation - Extracting Feature Importance\n",
    "Choose a `scikit-learn` supervised learning algorithm that has a `feature_importance_` attribute availble for it. This attribute is a function that ranks the importance of each feature when making predictions based on the chosen algorithm.\n",
    "\n",
    "In the code cell below, you will need to implement the following:\n",
    " - Import a supervised learning model from sklearn if it is different from the three used earlier.\n",
    " - Train the supervised model on the entire training set.\n",
    " - Extract the feature importances using `'.feature_importances_'`."
   ]
  },
  {
   "cell_type": "code",
<<<<<<< HEAD
   "execution_count": 71,
   "metadata": {},
   "outputs": [
    {
     "data": {
      "image/png": "iVBORw0KGgoAAAANSUhEUgAAAoAAAAFgCAYAAAArYcg8AAAABHNCSVQICAgIfAhkiAAAAAlwSFlz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\ny3Qp9MAvy5kAAAAASUVORK5CYII=\n",
      "text/plain": [
       "<matplotlib.figure.Figure at 0x10d53ebd0>"
      ]
     },
     "metadata": {},
     "output_type": "display_data"
    }
   ],
   "source": [
    "# TODO: Import a supervised learning model that has 'feature_importances_'\n",
    "from sklearn.ensemble import AdaBoostClassifier #GradientBoostingClassifier\n",
    "# TODO: Train the supervised model on the training set \n",
    "model = AdaBoostClassifier(learning_rate=1.0, n_estimators=200).fit(X_train,y_train)\n",
    "\n",
    "# TODO: Extract the feature importances\n",
    "importances = model.feature_importances_\n",
=======
   "execution_count": null,
   "metadata": {
    "collapsed": true
   },
   "outputs": [],
   "source": [
    "# TODO: Import a supervised learning model that has 'feature_importances_'\n",
    "\n",
    "\n",
    "# TODO: Train the supervised model on the training set using .fit(X_train, y_train)\n",
    "model = None\n",
    "\n",
    "# TODO: Extract the feature importances using .feature_importances_ \n",
    "importances = None\n",
>>>>>>> 48178d734ba9e97291498b5ebc57639a71f6548c
    "\n",
    "# Plot\n",
    "vs.feature_plot(importances, X_train, y_train)"
   ]
  },
  {
   "cell_type": "markdown",
   "metadata": {},
   "source": [
    "### Question 7 - Extracting Feature Importance\n",
    "\n",
    "Observe the visualization created above which displays the five most relevant features for predicting if an individual makes at most or above \\$50,000.  \n",
    "* How do these five features compare to the five features you discussed in **Question 6**?\n",
    "* If you were close to the same answer, how does this visualization confirm your thoughts? \n",
    "* If you were not close, why do you think these features are more relevant?"
   ]
  },
  {
   "cell_type": "markdown",
   "metadata": {},
   "source": [
    "**Answer:**\n",
    "\n",
    "* I believe I was close to the answer as 2 out of top 3 items I thought were important are same as the ones shown in the above visualization.\n",
    "\n",
    "* Starting with **capital-gain**, it reinforces our belief that in addition to the salary, other kinds of income (capital-gain or loss) can contribute to one's financial standing. Such income is also indicative of wealthy individuals as they have savings to be invested to get returns in the form of capital gains.\n",
    "\n",
    "\n",
    "* Another important feautre I proposed was **age** which one can intuitively assess to be related to the income. As people age, they tend to gain experience (and climb corporate ladder) resulting in them making more money.\n",
    "\n",
    "* The other features which I did not mention too are related to attributes which I thought to be important. I believe education_num is closely related to education_level and similarly capital-loss is similar to capital-gain but results in less income."
   ]
  },
  {
   "cell_type": "markdown",
   "metadata": {},
   "source": [
    "### Feature Selection\n",
    "How does a model perform if we only use a subset of all the available features in the data? With less features required to train, the expectation is that training and prediction time is much lower — at the cost of performance metrics. From the visualization above, we see that the top five most important features contribute more than half of the importance of **all** features present in the data. This hints that we can attempt to *reduce the feature space* and simplify the information required for the model to learn. The code cell below will use the same optimized model you found earlier, and train it on the same training set *with only the top five important features*. "
   ]
  },
  {
   "cell_type": "code",
<<<<<<< HEAD
   "execution_count": 74,
   "metadata": {},
   "outputs": [
    {
     "name": "stdout",
     "output_type": "stream",
     "text": [
      "Final Model trained on full data\n",
      "------\n",
      "Accuracy on testing data: 0.8651\n",
      "F-score on testing data: 0.7396\n",
      "\n",
      "Final Model trained on reduced data\n",
      "------\n",
      "Accuracy on testing data: 0.8385\n",
      "F-score on testing data: 0.6920\n"
     ]
    }
   ],
=======
   "execution_count": null,
   "metadata": {
    "collapsed": true
   },
   "outputs": [],
>>>>>>> 48178d734ba9e97291498b5ebc57639a71f6548c
   "source": [
    "# Import functionality for cloning a model\n",
    "from sklearn.base import clone\n",
    "\n",
    "# Reduce the feature space\n",
    "X_train_reduced = X_train[X_train.columns.values[(np.argsort(importances)[::-1])[:5]]]\n",
    "X_test_reduced = X_test[X_test.columns.values[(np.argsort(importances)[::-1])[:5]]]\n",
    "\n",
    "# Train on the \"best\" model found from grid search earlier\n",
    "clf = (clone(best_clf)).fit(X_train_reduced, y_train)\n",
    "\n",
    "# Make new predictions\n",
    "reduced_predictions = clf.predict(X_test_reduced)\n",
    "\n",
    "# Report scores from the final model using both versions of data\n",
    "print \"Final Model trained on full data\\n------\"\n",
    "print \"Accuracy on testing data: {:.4f}\".format(accuracy_score(y_test, best_predictions))\n",
    "print \"F-score on testing data: {:.4f}\".format(fbeta_score(y_test, best_predictions, beta = 0.5))\n",
    "print \"\\nFinal Model trained on reduced data\\n------\"\n",
    "print \"Accuracy on testing data: {:.4f}\".format(accuracy_score(y_test, reduced_predictions))\n",
    "print \"F-score on testing data: {:.4f}\".format(fbeta_score(y_test, reduced_predictions, beta = 0.5))"
   ]
  },
  {
   "cell_type": "markdown",
   "metadata": {},
   "source": [
    "### Question 8 - Effects of Feature Selection\n",
    "\n",
    "* How does the final model's F-score and accuracy score on the reduced data using only five features compare to those same scores when all features are used?\n",
    "* If training time was a factor, would you consider using the reduced data as your training set?"
   ]
  },
  {
   "cell_type": "markdown",
   "metadata": {},
   "source": [
    "#### Results:\n",
    "\n",
    "|     Metric     |  Unoptimized Model  | Optimized Model | Feature Selection Model\n",
    "| :------------: | :-----------------: | :---------------: | :-------------: | \n",
    "| Accuracy Score | 0.8576         |   0.8651        |  0.8385\n",
    "| F-score        |     0.7246         |   0.7396        |  0.6920\n"
   ]
  },
  {
   "cell_type": "markdown",
   "metadata": {},
   "source": [
    "**Answer:**\n",
    "\n",
    "* Reducing the number of features effected the F-score the most (while also bringing the accuracy down). Not only that,a model with less features performed even worse than the Unoptimized model.\n",
    "\n",
    "* If training time was a factor, I will definitely consider using the reduced data as that is one of the drawbacks of the ensemble methods. We can see that this will help overcome one of the downsides of the model taking too long also finding the right hyperparameters. We can re-evaluate identifying the hyper parameters with less number of features and re-fit our model.\n"
   ]
  },
  {
   "cell_type": "markdown",
   "metadata": {},
   "source": [
    "> **Note**: Once you have completed all of the code implementations and successfully answered each question above, you may finalize your work by exporting the iPython Notebook as an HTML document. You can do this by using the menu above and navigating to  \n",
    "**File -> Download as -> HTML (.html)**. Include the finished document along with this notebook as your submission."
   ]
  }
 ],
 "metadata": {
  "kernelspec": {
   "display_name": "Python 2",
   "language": "python",
   "name": "python2"
  },
  "language_info": {
   "codemirror_mode": {
    "name": "ipython",
    "version": 2
   },
   "file_extension": ".py",
   "mimetype": "text/x-python",
   "name": "python",
   "nbconvert_exporter": "python",
   "pygments_lexer": "ipython2",
<<<<<<< HEAD
   "version": "2.7.13"
=======
   "version": "2.7.12"
>>>>>>> 48178d734ba9e97291498b5ebc57639a71f6548c
  }
 },
 "nbformat": 4,
 "nbformat_minor": 1
}
